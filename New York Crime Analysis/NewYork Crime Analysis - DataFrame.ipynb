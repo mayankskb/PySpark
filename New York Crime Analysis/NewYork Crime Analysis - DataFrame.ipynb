{
 "cells": [
  {
   "cell_type": "code",
   "execution_count": 1,
   "metadata": {
    "collapsed": true
   },
   "outputs": [],
   "source": [
    "import findspark\n",
    "findspark.init(\"/usr/local/spark/spark-2.2.1-bin-hadoop2.7\")"
   ]
  },
  {
   "cell_type": "code",
   "execution_count": 2,
   "metadata": {
    "collapsed": true
   },
   "outputs": [],
   "source": [
    "from pyspark.sql import SparkSession\n",
    "spark = SparkSession.builder.appName('New York Crime').getOrCreate()"
   ]
  },
  {
   "cell_type": "code",
   "execution_count": 3,
   "metadata": {
    "scrolled": true
   },
   "outputs": [
    {
     "data": {
      "text/plain": [
       "[Row(OBJECTID=1, Identifier='f070032d', Occurrence Date='09/06/1940 07:30:00 PM', Day of Week='Friday', Occurrence Month='Sep', Occurrence Day=6, Occurrence Year=1940, Occurrence Hour='19', CompStat Month='9', CompStat Day=7, CompStat Year=2010, Offense='BURGLARY', Offense Classification='FELONY', Sector='D', Precinct='66', Borough='BROOKLYN', Jurisdiction='N.Y. POLICE DEPT', XCoordinate=987478, YCoordinate=166141, Location 1='(40.6227027620001, -73.9883732929999)'),\n",
       " Row(OBJECTID=2, Identifier='c6245d4d', Occurrence Date='12/14/1968 12:20:00 AM', Day of Week='Saturday', Occurrence Month='Dec', Occurrence Day=14, Occurrence Year=1968, Occurrence Hour='0', CompStat Month='12', CompStat Day=14, CompStat Year=2008, Offense='GRAND LARCENY', Offense Classification='FELONY', Sector='G', Precinct='28', Borough='MANHATTAN', Jurisdiction='N.Y. POLICE DEPT', XCoordinate=996470, YCoordinate=232106, Location 1='(40.8037530600001, -73.955861904)'),\n",
       " Row(OBJECTID=3, Identifier='716dbc6f', Occurrence Date='10/30/1970 03:30:00 PM', Day of Week='Friday', Occurrence Month='Oct', Occurrence Day=30, Occurrence Year=1970, Occurrence Hour='15', CompStat Month='10', CompStat Day=31, CompStat Year=2008, Offense='BURGLARY', Offense Classification='FELONY', Sector='H', Precinct='84', Borough='BROOKLYN', Jurisdiction='N.Y. POLICE DEPT', XCoordinate=986508, YCoordinate=190249, Location 1='(40.688874254, -73.9918594329999)'),\n",
       " Row(OBJECTID=4, Identifier='638cd7b7', Occurrence Date='07/18/1972 11:00:00 PM', Day of Week='Tuesday', Occurrence Month='Jul', Occurrence Day=18, Occurrence Year=1972, Occurrence Hour='23', CompStat Month='7', CompStat Day=19, CompStat Year=2012, Offense='GRAND LARCENY OF MOTOR VEHICLE', Offense Classification='FELONY', Sector='F', Precinct='73', Borough='BROOKLYN', Jurisdiction='N.Y. POLICE DEPT', XCoordinate=1005876, YCoordinate=182440, Location 1='(40.6674141890001, -73.9220463899999)'),\n",
       " Row(OBJECTID=5, Identifier='6e410287', Occurrence Date='05/21/1987 12:01:00 AM', Day of Week='Thursday', Occurrence Month='May', Occurrence Day=21, Occurrence Year=1987, Occurrence Hour='0', CompStat Month='5', CompStat Day=28, CompStat Year=2009, Offense='GRAND LARCENY', Offense Classification='FELONY', Sector='K', Precinct='75', Borough='BROOKLYN', Jurisdiction='N.Y. POLICE DEPT', XCoordinate=1017958, YCoordinate=182266, Location 1='(40.6668988440001, -73.878495425)'),\n",
       " Row(OBJECTID=6, Identifier='7eebfe3c', Occurrence Date='02/01/1990 09:00:00 AM', Day of Week='Thursday', Occurrence Month='Feb', Occurrence Day=1, Occurrence Year=1990, Occurrence Hour='9', CompStat Month='9', CompStat Day=17, CompStat Year=2014, Offense='GRAND LARCENY', Offense Classification='FELONY', Sector='K', Precinct='105', Borough='QUEENS', Jurisdiction='N.Y. POLICE DEPT', XCoordinate=1058407, YCoordinate=204788, Location 1='(40.7284698170001, -73.7324430589999)'),\n",
       " Row(OBJECTID=7, Identifier='da21f94f', Occurrence Date='11/13/1990 12:01:00 AM', Day of Week='Tuesday', Occurrence Month='Nov', Occurrence Day=13, Occurrence Year=1990, Occurrence Hour='0', CompStat Month='6', CompStat Day=7, CompStat Year=2007, Offense='GRAND LARCENY', Offense Classification='FELONY', Sector=None, Precinct='73', Borough='BROOKLYN', Jurisdiction='N.Y. HOUSING POLICE', XCoordinate=1010272, YCoordinate=183760, Location 1='(40.671025464, -73.906195082)'),\n",
       " Row(OBJECTID=8, Identifier='87c99e8c', Occurrence Date='02/02/1992 04:00:00 PM', Day of Week='Sunday', Occurrence Month='Feb', Occurrence Day=2, Occurrence Year=1992, Occurrence Hour='16', CompStat Month='3', CompStat Day=27, CompStat Year=2012, Offense='GRAND LARCENY', Offense Classification='FELONY', Sector=None, Precinct='101', Borough='QUEENS', Jurisdiction='N.Y. POLICE DEPT', XCoordinate=1053678, YCoordinate=159044, Location 1='(40.6029515910001, -73.749976261)'),\n",
       " Row(OBJECTID=9, Identifier='495f57e1', Occurrence Date='08/08/1994 06:00:00 PM', Day of Week='Monday', Occurrence Month='Aug', Occurrence Day=8, Occurrence Year=1994, Occurrence Hour='18', CompStat Month='7', CompStat Day=31, CompStat Year=2008, Offense='RAPE', Offense Classification='FELONY', Sector='A', Precinct='103', Borough='QUEENS', Jurisdiction='N.Y. POLICE DEPT', XCoordinate=1041749, YCoordinate=196938, Location 1='(40.707047475, -73.792611904)'),\n",
       " Row(OBJECTID=10, Identifier='31c0b727', Occurrence Date='10/26/1994 12:01:00 AM', Day of Week='Wednesday', Occurrence Month='Oct', Occurrence Day=26, Occurrence Year=1994, Occurrence Hour='0', CompStat Month='6', CompStat Day=4, CompStat Year=2008, Offense='GRAND LARCENY', Offense Classification='FELONY', Sector='D', Precinct='17', Borough='MANHATTAN', Jurisdiction='N.Y. POLICE DEPT', XCoordinate=992029, YCoordinate=213332, Location 1='(40.7522284, -73.971924858)')]"
      ]
     },
     "execution_count": 3,
     "metadata": {},
     "output_type": "execute_result"
    }
   ],
   "source": [
    "df = spark.read.csv('NYCrime.csv', header= True, inferSchema=True)\n",
    "df.head(10)"
   ]
  },
  {
   "cell_type": "code",
   "execution_count": 5,
   "metadata": {
    "scrolled": true
   },
   "outputs": [
    {
     "name": "stdout",
     "output_type": "stream",
     "text": [
      "root\n",
      " |-- OBJECTID: integer (nullable = true)\n",
      " |-- Identifier: string (nullable = true)\n",
      " |-- Occurrence Date: string (nullable = true)\n",
      " |-- Day of Week: string (nullable = true)\n",
      " |-- Occurrence Month: string (nullable = true)\n",
      " |-- Occurrence Day: integer (nullable = true)\n",
      " |-- Occurrence Year: integer (nullable = true)\n",
      " |-- Occurrence Hour: string (nullable = true)\n",
      " |-- CompStat Month: string (nullable = true)\n",
      " |-- CompStat Day: integer (nullable = true)\n",
      " |-- CompStat Year: integer (nullable = true)\n",
      " |-- Offense: string (nullable = true)\n",
      " |-- Offense Classification: string (nullable = true)\n",
      " |-- Sector: string (nullable = true)\n",
      " |-- Precinct: string (nullable = true)\n",
      " |-- Borough: string (nullable = true)\n",
      " |-- Jurisdiction: string (nullable = true)\n",
      " |-- XCoordinate: integer (nullable = true)\n",
      " |-- YCoordinate: integer (nullable = true)\n",
      " |-- Location 1: string (nullable = true)\n",
      "\n"
     ]
    }
   ],
   "source": [
    "df.printSchema()"
   ]
  },
  {
   "cell_type": "code",
   "execution_count": 6,
   "metadata": {
    "scrolled": false
   },
   "outputs": [
    {
     "name": "stdout",
     "output_type": "stream",
     "text": [
      "+--------+----------+--------------------+-----------+----------------+--------------+---------------+---------------+--------------+------------+-------------+--------------------+----------------------+------+--------+---------+-------------------+-----------+-----------+--------------------+\n",
      "|OBJECTID|Identifier|     Occurrence Date|Day of Week|Occurrence Month|Occurrence Day|Occurrence Year|Occurrence Hour|CompStat Month|CompStat Day|CompStat Year|             Offense|Offense Classification|Sector|Precinct|  Borough|       Jurisdiction|XCoordinate|YCoordinate|          Location 1|\n",
      "+--------+----------+--------------------+-----------+----------------+--------------+---------------+---------------+--------------+------------+-------------+--------------------+----------------------+------+--------+---------+-------------------+-----------+-----------+--------------------+\n",
      "|       1|  f070032d|09/06/1940 07:30:...|     Friday|             Sep|             6|           1940|             19|             9|           7|         2010|            BURGLARY|                FELONY|     D|      66| BROOKLYN|   N.Y. POLICE DEPT|     987478|     166141|(40.6227027620001...|\n",
      "|       2|  c6245d4d|12/14/1968 12:20:...|   Saturday|             Dec|            14|           1968|              0|            12|          14|         2008|       GRAND LARCENY|                FELONY|     G|      28|MANHATTAN|   N.Y. POLICE DEPT|     996470|     232106|(40.8037530600001...|\n",
      "|       3|  716dbc6f|10/30/1970 03:30:...|     Friday|             Oct|            30|           1970|             15|            10|          31|         2008|            BURGLARY|                FELONY|     H|      84| BROOKLYN|   N.Y. POLICE DEPT|     986508|     190249|(40.688874254, -7...|\n",
      "|       4|  638cd7b7|07/18/1972 11:00:...|    Tuesday|             Jul|            18|           1972|             23|             7|          19|         2012|GRAND LARCENY OF ...|                FELONY|     F|      73| BROOKLYN|   N.Y. POLICE DEPT|    1005876|     182440|(40.6674141890001...|\n",
      "|       5|  6e410287|05/21/1987 12:01:...|   Thursday|             May|            21|           1987|              0|             5|          28|         2009|       GRAND LARCENY|                FELONY|     K|      75| BROOKLYN|   N.Y. POLICE DEPT|    1017958|     182266|(40.6668988440001...|\n",
      "|       6|  7eebfe3c|02/01/1990 09:00:...|   Thursday|             Feb|             1|           1990|              9|             9|          17|         2014|       GRAND LARCENY|                FELONY|     K|     105|   QUEENS|   N.Y. POLICE DEPT|    1058407|     204788|(40.7284698170001...|\n",
      "|       7|  da21f94f|11/13/1990 12:01:...|    Tuesday|             Nov|            13|           1990|              0|             6|           7|         2007|       GRAND LARCENY|                FELONY|  null|      73| BROOKLYN|N.Y. HOUSING POLICE|    1010272|     183760|(40.671025464, -7...|\n",
      "|       8|  87c99e8c|02/02/1992 04:00:...|     Sunday|             Feb|             2|           1992|             16|             3|          27|         2012|       GRAND LARCENY|                FELONY|  null|     101|   QUEENS|   N.Y. POLICE DEPT|    1053678|     159044|(40.6029515910001...|\n",
      "|       9|  495f57e1|08/08/1994 06:00:...|     Monday|             Aug|             8|           1994|             18|             7|          31|         2008|                RAPE|                FELONY|     A|     103|   QUEENS|   N.Y. POLICE DEPT|    1041749|     196938|(40.707047475, -7...|\n",
      "|      10|  31c0b727|10/26/1994 12:01:...|  Wednesday|             Oct|            26|           1994|              0|             6|           4|         2008|       GRAND LARCENY|                FELONY|     D|      17|MANHATTAN|   N.Y. POLICE DEPT|     992029|     213332|(40.7522284, -73....|\n",
      "|      11|  c43b188b|02/01/1995 08:00:...|  Wednesday|             Feb|             1|           1995|              8|             3|           6|         2009|                RAPE|                FELONY|     G|      83| BROOKLYN|   N.Y. POLICE DEPT|    1006965|     193571|(40.697963515, -7...|\n",
      "|      12|  81770cd9|02/01/1996 03:00:...|   Thursday|             Feb|             1|           1996|             15|             8|           7|         2007|       GRAND LARCENY|                FELONY|     B|      71| BROOKLYN|   N.Y. POLICE DEPT|     997457|     181411|(40.664606373, -7...|\n",
      "|      13|  cb5b6e80|04/15/1998 09:00:...|  Wednesday|             Apr|            15|           1998|              9|            12|           7|         2006|       GRAND LARCENY|                FELONY|     E|      43|    BRONX|   N.Y. POLICE DEPT|    1018182|     239891|(40.82506399, -73...|\n",
      "|      14|  fa2de4a8|11/09/1998 08:00:...|     Monday|             Nov|             9|           1998|              8|             4|          22|         2006|       GRAND LARCENY|                FELONY|     A|      30|MANHATTAN|   N.Y. POLICE DEPT|     996889|     239161|(40.8231164790001...|\n",
      "|      15|  20a353dd|12/21/1998 12:00:...|     Monday|             Dec|            21|           1998|              0|             3|           9|         2007|       GRAND LARCENY|                FELONY|     M|      44|    BRONX|   N.Y. POLICE DEPT|    1004850|     244753|(40.838449934, -7...|\n",
      "|      16|  875e9b22|04/15/1999 09:00:...|   Thursday|             Apr|            15|           1999|              9|             4|           7|         2010|       GRAND LARCENY|                FELONY|     D|      73| BROOKLYN|   N.Y. POLICE DEPT|    1007783|     185486|(40.6757699120001...|\n",
      "|      17|  4e7b80e0|11/09/1999 08:00:...|    Tuesday|             Nov|             9|           1999|              8|             5|          23|         2008|       GRAND LARCENY|                FELONY|     J|      43|    BRONX|   N.Y. POLICE DEPT|    1021767|     245307|(40.839914838, -7...|\n",
      "|      18|  9d617db6|01/09/2000 08:00:...|     Sunday|             Jan|             9|           2000|             20|            11|           6|         2006|                RAPE|                FELONY|     G|     108|   QUEENS|   N.Y. POLICE DEPT|     996793|     210001|(40.7430801680001...|\n",
      "|      19|  6d81a2b9|01/09/2000 09:30:...|     Sunday|             Jan|             9|           2000|             21|             1|           9|         2006|             ROBBERY|                FELONY|     E|      47|    BRONX|   N.Y. POLICE DEPT|    1024562|     263549|(40.8899712210001...|\n",
      "|      20|  f7d373fa|02/11/2000 10:00:...|     Friday|             Feb|            11|           2000|             10|             1|          10|         2006|       GRAND LARCENY|                FELONY|     K|      43|    BRONX|   N.Y. POLICE DEPT|    1023266|     244631|(40.838052921, -7...|\n",
      "+--------+----------+--------------------+-----------+----------------+--------------+---------------+---------------+--------------+------------+-------------+--------------------+----------------------+------+--------+---------+-------------------+-----------+-----------+--------------------+\n",
      "only showing top 20 rows\n",
      "\n"
     ]
    }
   ],
   "source": [
    "df.show()"
   ]
  },
  {
   "cell_type": "code",
   "execution_count": 7,
   "metadata": {
    "scrolled": true
   },
   "outputs": [
    {
     "data": {
      "text/plain": [
       "'f070032d'"
      ]
     },
     "execution_count": 7,
     "metadata": {},
     "output_type": "execute_result"
    }
   ],
   "source": [
    "df.select('Identifier').head(1)[0][0]"
   ]
  },
  {
   "cell_type": "code",
   "execution_count": 8,
   "metadata": {},
   "outputs": [
    {
     "data": {
      "text/plain": [
       "'BURGLARY'"
      ]
     },
     "execution_count": 8,
     "metadata": {},
     "output_type": "execute_result"
    }
   ],
   "source": [
    "df.select('Offense').head(1)[0][0]"
   ]
  },
  {
   "cell_type": "markdown",
   "metadata": {},
   "source": [
    "#Displaying number of crime cases of different types"
   ]
  },
  {
   "cell_type": "code",
   "execution_count": 9,
   "metadata": {
    "scrolled": false
   },
   "outputs": [
    {
     "name": "stdout",
     "output_type": "stream",
     "text": [
      "+--------------------+------+\n",
      "|             Offense| count|\n",
      "+--------------------+------+\n",
      "|      FELONY ASSAULT|184042|\n",
      "|                  NA|     1|\n",
      "|MURDER & NON-NEGL...|  4574|\n",
      "|             ROBBERY|198744|\n",
      "|GRAND LARCENY OF ...|101963|\n",
      "|                RAPE| 13779|\n",
      "|       GRAND LARCENY|428993|\n",
      "|            BURGLARY|191369|\n",
      "+--------------------+------+\n",
      "\n"
     ]
    }
   ],
   "source": [
    "df.groupBy(df.Offense).count().show()"
   ]
  },
  {
   "cell_type": "markdown",
   "metadata": {},
   "source": [
    "Number of Cases per Year "
   ]
  },
  {
   "cell_type": "code",
   "execution_count": 10,
   "metadata": {
    "scrolled": true
   },
   "outputs": [
    {
     "name": "stdout",
     "output_type": "stream",
     "text": [
      "+---------------+-----+\n",
      "|Occurrence Year|count|\n",
      "+---------------+-----+\n",
      "|           null|  244|\n",
      "|           1905|    2|\n",
      "|           1908|    1|\n",
      "|           1910|    3|\n",
      "|           1911|    1|\n",
      "|           1912|    1|\n",
      "|           1913|    4|\n",
      "|           1914|    2|\n",
      "|           1915|    3|\n",
      "|           1920|    1|\n",
      "|           1940|    1|\n",
      "|           1945|    2|\n",
      "|           1946|    1|\n",
      "|           1950|    1|\n",
      "|           1954|    1|\n",
      "|           1955|    1|\n",
      "|           1956|    1|\n",
      "|           1958|    1|\n",
      "|           1959|    1|\n",
      "|           1960|    1|\n",
      "+---------------+-----+\n",
      "only showing top 20 rows\n",
      "\n"
     ]
    }
   ],
   "source": [
    "df.groupBy(df['Occurrence Year']).count().orderBy(df['Occurrence Year']).show()"
   ]
  },
  {
   "cell_type": "markdown",
   "metadata": {},
   "source": [
    "Removing Null Values from our data"
   ]
  },
  {
   "cell_type": "code",
   "execution_count": 11,
   "metadata": {
    "collapsed": true
   },
   "outputs": [],
   "source": [
    "filteredDF = df.na.drop(subset = ['Offense', 'Occurrence Year'])\n",
    "\n",
    "#getting cases that happen after 2006\n",
    "\n",
    "crimesFiltered = filteredDF.filter(df['Occurrence Year'] >= 2006 )"
   ]
  },
  {
   "cell_type": "code",
   "execution_count": 12,
   "metadata": {
    "scrolled": true
   },
   "outputs": [
    {
     "name": "stdout",
     "output_type": "stream",
     "text": [
      "+---------------+------+\n",
      "|Occurrence Year| count|\n",
      "+---------------+------+\n",
      "|           2006|127887|\n",
      "|           2007|120554|\n",
      "|           2008|117375|\n",
      "|           2009|106018|\n",
      "|           2010|105643|\n",
      "|           2011|107206|\n",
      "|           2012|111798|\n",
      "|           2013|111286|\n",
      "|           2014|106849|\n",
      "|           2015|102657|\n",
      "+---------------+------+\n",
      "\n"
     ]
    }
   ],
   "source": [
    "#grouping count of cases happen after 2006\n",
    "crimesFiltered.groupBy(df['Occurrence Year']).count().orderBy(df['Occurrence Year']).show()"
   ]
  },
  {
   "cell_type": "code",
   "execution_count": 13,
   "metadata": {
    "scrolled": true
   },
   "outputs": [
    {
     "data": {
      "text/plain": [
       "'(59.5805088160001, -73.8954321749999)'"
      ]
     },
     "execution_count": 13,
     "metadata": {},
     "output_type": "execute_result"
    }
   ],
   "source": [
    "maxloc = df.agg({\"Location 1\": \"max\"}).collect()[0][0]\n",
    "maxloc"
   ]
  },
  {
   "cell_type": "code",
   "execution_count": 14,
   "metadata": {},
   "outputs": [
    {
     "data": {
      "text/plain": [
       "'(40.112709974, -77.519206334)'"
      ]
     },
     "execution_count": 14,
     "metadata": {},
     "output_type": "execute_result"
    }
   ],
   "source": [
    "minloc = df.agg({\"Location 1\": \"min\"}).collect()[0][0]\n",
    "minloc"
   ]
  },
  {
   "cell_type": "code",
   "execution_count": 15,
   "metadata": {
    "collapsed": true
   },
   "outputs": [],
   "source": [
    "#filtering data for New York Location only\n",
    "crimesFiltered = crimesFiltered.filter(df['Location 1'] >= '(40.477399, -74.25909)')\n",
    "crimesFiltered = crimesFiltered.filter(df['Location 1'] <= '(40.917577, -73.700009)')"
   ]
  },
  {
   "cell_type": "code",
   "execution_count": 16,
   "metadata": {
    "scrolled": true
   },
   "outputs": [
    {
     "name": "stdout",
     "output_type": "stream",
     "text": [
      "+---------------+-----+\n",
      "|Occurrence Year|count|\n",
      "+---------------+-----+\n",
      "|           2006|23069|\n",
      "|           2007|21716|\n",
      "|           2008|20732|\n",
      "|           2009|19441|\n",
      "|           2010|18700|\n",
      "|           2011|18860|\n",
      "|           2012|19309|\n",
      "|           2013|17419|\n",
      "|           2014|16832|\n",
      "|           2015|14967|\n",
      "+---------------+-----+\n",
      "\n"
     ]
    }
   ],
   "source": [
    "#Filtering cases for Burglary only for year >= 2006\n",
    "filterBurglary = crimesFiltered.filter(df['Offense'] == 'BURGLARY')\n",
    "filterBurglary.groupBy(df['Occurrence Year']).count().orderBy(df['Occurrence Year']).show()"
   ]
  }
 ],
 "metadata": {
  "kernelspec": {
   "display_name": "Python 3",
   "language": "python",
   "name": "python3"
  },
  "language_info": {
   "codemirror_mode": {
    "name": "ipython",
    "version": 3
   },
   "file_extension": ".py",
   "mimetype": "text/x-python",
   "name": "python",
   "nbconvert_exporter": "python",
   "pygments_lexer": "ipython3",
   "version": "3.6.3"
  }
 },
 "nbformat": 4,
 "nbformat_minor": 2
}
