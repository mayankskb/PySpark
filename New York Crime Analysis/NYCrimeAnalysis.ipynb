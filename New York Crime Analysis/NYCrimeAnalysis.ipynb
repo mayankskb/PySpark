{
 "cells": [
  {
   "cell_type": "code",
   "execution_count": 1,
   "metadata": {
    "collapsed": true
   },
   "outputs": [],
   "source": [
    "#Load the data and get a quick sense\n",
    "path = \"file:///home/mayank/NYCrime.csv\"\n",
    "data = sc.textFile(path)"
   ]
  },
  {
   "cell_type": "code",
   "execution_count": 2,
   "metadata": {
    "scrolled": true
   },
   "outputs": [
    {
     "data": {
      "text/plain": [
       "['OBJECTID,Identifier,Occurrence Date,Day of Week,Occurrence Month,Occurrence Day,Occurrence Year,Occurrence Hour,CompStat Month,CompStat Day,CompStat Year,Offense,Offense Classification,Sector,Precinct,Borough,Jurisdiction,XCoordinate,YCoordinate,Location 1',\n",
       " '1,f070032d,09/06/1940 07:30:00 PM,Friday,Sep,6,1940,19,9,7,2010,BURGLARY,FELONY,D,66,BROOKLYN,N.Y. POLICE DEPT,987478,166141,\"(40.6227027620001, -73.9883732929999)\"',\n",
       " '2,c6245d4d,12/14/1968 12:20:00 AM,Saturday,Dec,14,1968,0,12,14,2008,GRAND LARCENY,FELONY,G,28,MANHATTAN,N.Y. POLICE DEPT,996470,232106,\"(40.8037530600001, -73.955861904)\"',\n",
       " '3,716dbc6f,10/30/1970 03:30:00 PM,Friday,Oct,30,1970,15,10,31,2008,BURGLARY,FELONY,H,84,BROOKLYN,N.Y. POLICE DEPT,986508,190249,\"(40.688874254, -73.9918594329999)\"',\n",
       " '4,638cd7b7,07/18/1972 11:00:00 PM,Tuesday,Jul,18,1972,23,7,19,2012,GRAND LARCENY OF MOTOR VEHICLE,FELONY,F,73,BROOKLYN,N.Y. POLICE DEPT,1005876,182440,\"(40.6674141890001, -73.9220463899999)\"',\n",
       " '5,6e410287,05/21/1987 12:01:00 AM,Thursday,May,21,1987,0,5,28,2009,GRAND LARCENY,FELONY,K,75,BROOKLYN,N.Y. POLICE DEPT,1017958,182266,\"(40.6668988440001, -73.878495425)\"',\n",
       " '6,7eebfe3c,02/01/1990 09:00:00 AM,Thursday,Feb,1,1990,9,9,17,2014,GRAND LARCENY,FELONY,K,105,QUEENS,N.Y. POLICE DEPT,1058407,204788,\"(40.7284698170001, -73.7324430589999)\"',\n",
       " '7,da21f94f,11/13/1990 12:01:00 AM,Tuesday,Nov,13,1990,0,6,7,2007,GRAND LARCENY,FELONY,,73,BROOKLYN,N.Y. HOUSING POLICE,1010272,183760,\"(40.671025464, -73.906195082)\"',\n",
       " '8,87c99e8c,02/02/1992 04:00:00 PM,Sunday,Feb,2,1992,16,3,27,2012,GRAND LARCENY,FELONY,,101,QUEENS,N.Y. POLICE DEPT,1053678,159044,\"(40.6029515910001, -73.749976261)\"',\n",
       " '9,495f57e1,08/08/1994 06:00:00 PM,Monday,Aug,8,1994,18,7,31,2008,RAPE,FELONY,A,103,QUEENS,N.Y. POLICE DEPT,1041749,196938,\"(40.707047475, -73.792611904)\"']"
      ]
     },
     "execution_count": 2,
     "metadata": {},
     "output_type": "execute_result"
    }
   ],
   "source": [
    "data.take(10)"
   ]
  },
  {
   "cell_type": "code",
   "execution_count": 3,
   "metadata": {
    "scrolled": true
   },
   "outputs": [
    {
     "name": "stdout",
     "output_type": "stream",
     "text": [
      "OBJECTID,Identifier,Occurrence Date,Day of Week,Occurrence Month,Occurrence Day,Occurrence Year,Occurrence Hour,CompStat Month,CompStat Day,CompStat Year,Offense,Offense Classification,Sector,Precinct,Borough,Jurisdiction,XCoordinate,YCoordinate,Location 1\n"
     ]
    }
   ],
   "source": [
    "#Filter the header row\n",
    "header = data.first()\n",
    "print(header)"
   ]
  },
  {
   "cell_type": "code",
   "execution_count": 4,
   "metadata": {
    "collapsed": true
   },
   "outputs": [],
   "source": [
    "dataWithOutHeader = data.filter(lambda x: x != header)"
   ]
  },
  {
   "cell_type": "code",
   "execution_count": 5,
   "metadata": {
    "scrolled": true
   },
   "outputs": [
    {
     "data": {
      "text/plain": [
       "'1,f070032d,09/06/1940 07:30:00 PM,Friday,Sep,6,1940,19,9,7,2010,BURGLARY,FELONY,D,66,BROOKLYN,N.Y. POLICE DEPT,987478,166141,\"(40.6227027620001, -73.9883732929999)\"'"
      ]
     },
     "execution_count": 5,
     "metadata": {},
     "output_type": "execute_result"
    }
   ],
   "source": [
    "dataWithOutHeader.first()"
   ]
  },
  {
   "cell_type": "code",
   "execution_count": 6,
   "metadata": {
    "scrolled": false
   },
   "outputs": [
    {
     "data": {
      "text/plain": [
       "[['1',\n",
       "  'f070032d',\n",
       "  '09/06/1940 07:30:00 PM',\n",
       "  'Friday',\n",
       "  'Sep',\n",
       "  '6',\n",
       "  '1940',\n",
       "  '19',\n",
       "  '9',\n",
       "  '7',\n",
       "  '2010',\n",
       "  'BURGLARY',\n",
       "  'FELONY',\n",
       "  'D',\n",
       "  '66',\n",
       "  'BROOKLYN',\n",
       "  'N.Y. POLICE DEPT',\n",
       "  '987478',\n",
       "  '166141',\n",
       "  '\"(40.6227027620001',\n",
       "  ' -73.9883732929999)\"'],\n",
       " ['2',\n",
       "  'c6245d4d',\n",
       "  '12/14/1968 12:20:00 AM',\n",
       "  'Saturday',\n",
       "  'Dec',\n",
       "  '14',\n",
       "  '1968',\n",
       "  '0',\n",
       "  '12',\n",
       "  '14',\n",
       "  '2008',\n",
       "  'GRAND LARCENY',\n",
       "  'FELONY',\n",
       "  'G',\n",
       "  '28',\n",
       "  'MANHATTAN',\n",
       "  'N.Y. POLICE DEPT',\n",
       "  '996470',\n",
       "  '232106',\n",
       "  '\"(40.8037530600001',\n",
       "  ' -73.955861904)\"'],\n",
       " ['3',\n",
       "  '716dbc6f',\n",
       "  '10/30/1970 03:30:00 PM',\n",
       "  'Friday',\n",
       "  'Oct',\n",
       "  '30',\n",
       "  '1970',\n",
       "  '15',\n",
       "  '10',\n",
       "  '31',\n",
       "  '2008',\n",
       "  'BURGLARY',\n",
       "  'FELONY',\n",
       "  'H',\n",
       "  '84',\n",
       "  'BROOKLYN',\n",
       "  'N.Y. POLICE DEPT',\n",
       "  '986508',\n",
       "  '190249',\n",
       "  '\"(40.688874254',\n",
       "  ' -73.9918594329999)\"'],\n",
       " ['4',\n",
       "  '638cd7b7',\n",
       "  '07/18/1972 11:00:00 PM',\n",
       "  'Tuesday',\n",
       "  'Jul',\n",
       "  '18',\n",
       "  '1972',\n",
       "  '23',\n",
       "  '7',\n",
       "  '19',\n",
       "  '2012',\n",
       "  'GRAND LARCENY OF MOTOR VEHICLE',\n",
       "  'FELONY',\n",
       "  'F',\n",
       "  '73',\n",
       "  'BROOKLYN',\n",
       "  'N.Y. POLICE DEPT',\n",
       "  '1005876',\n",
       "  '182440',\n",
       "  '\"(40.6674141890001',\n",
       "  ' -73.9220463899999)\"'],\n",
       " ['5',\n",
       "  '6e410287',\n",
       "  '05/21/1987 12:01:00 AM',\n",
       "  'Thursday',\n",
       "  'May',\n",
       "  '21',\n",
       "  '1987',\n",
       "  '0',\n",
       "  '5',\n",
       "  '28',\n",
       "  '2009',\n",
       "  'GRAND LARCENY',\n",
       "  'FELONY',\n",
       "  'K',\n",
       "  '75',\n",
       "  'BROOKLYN',\n",
       "  'N.Y. POLICE DEPT',\n",
       "  '1017958',\n",
       "  '182266',\n",
       "  '\"(40.6668988440001',\n",
       "  ' -73.878495425)\"'],\n",
       " ['6',\n",
       "  '7eebfe3c',\n",
       "  '02/01/1990 09:00:00 AM',\n",
       "  'Thursday',\n",
       "  'Feb',\n",
       "  '1',\n",
       "  '1990',\n",
       "  '9',\n",
       "  '9',\n",
       "  '17',\n",
       "  '2014',\n",
       "  'GRAND LARCENY',\n",
       "  'FELONY',\n",
       "  'K',\n",
       "  '105',\n",
       "  'QUEENS',\n",
       "  'N.Y. POLICE DEPT',\n",
       "  '1058407',\n",
       "  '204788',\n",
       "  '\"(40.7284698170001',\n",
       "  ' -73.7324430589999)\"'],\n",
       " ['7',\n",
       "  'da21f94f',\n",
       "  '11/13/1990 12:01:00 AM',\n",
       "  'Tuesday',\n",
       "  'Nov',\n",
       "  '13',\n",
       "  '1990',\n",
       "  '0',\n",
       "  '6',\n",
       "  '7',\n",
       "  '2007',\n",
       "  'GRAND LARCENY',\n",
       "  'FELONY',\n",
       "  '',\n",
       "  '73',\n",
       "  'BROOKLYN',\n",
       "  'N.Y. HOUSING POLICE',\n",
       "  '1010272',\n",
       "  '183760',\n",
       "  '\"(40.671025464',\n",
       "  ' -73.906195082)\"'],\n",
       " ['8',\n",
       "  '87c99e8c',\n",
       "  '02/02/1992 04:00:00 PM',\n",
       "  'Sunday',\n",
       "  'Feb',\n",
       "  '2',\n",
       "  '1992',\n",
       "  '16',\n",
       "  '3',\n",
       "  '27',\n",
       "  '2012',\n",
       "  'GRAND LARCENY',\n",
       "  'FELONY',\n",
       "  '',\n",
       "  '101',\n",
       "  'QUEENS',\n",
       "  'N.Y. POLICE DEPT',\n",
       "  '1053678',\n",
       "  '159044',\n",
       "  '\"(40.6029515910001',\n",
       "  ' -73.749976261)\"'],\n",
       " ['9',\n",
       "  '495f57e1',\n",
       "  '08/08/1994 06:00:00 PM',\n",
       "  'Monday',\n",
       "  'Aug',\n",
       "  '8',\n",
       "  '1994',\n",
       "  '18',\n",
       "  '7',\n",
       "  '31',\n",
       "  '2008',\n",
       "  'RAPE',\n",
       "  'FELONY',\n",
       "  'A',\n",
       "  '103',\n",
       "  'QUEENS',\n",
       "  'N.Y. POLICE DEPT',\n",
       "  '1041749',\n",
       "  '196938',\n",
       "  '\"(40.707047475',\n",
       "  ' -73.792611904)\"'],\n",
       " ['10',\n",
       "  '31c0b727',\n",
       "  '10/26/1994 12:01:00 AM',\n",
       "  'Wednesday',\n",
       "  'Oct',\n",
       "  '26',\n",
       "  '1994',\n",
       "  '0',\n",
       "  '6',\n",
       "  '4',\n",
       "  '2008',\n",
       "  'GRAND LARCENY',\n",
       "  'FELONY',\n",
       "  'D',\n",
       "  '17',\n",
       "  'MANHATTAN',\n",
       "  'N.Y. POLICE DEPT',\n",
       "  '992029',\n",
       "  '213332',\n",
       "  '\"(40.7522284',\n",
       "  ' -73.971924858)\"']]"
      ]
     },
     "execution_count": 6,
     "metadata": {},
     "output_type": "execute_result"
    }
   ],
   "source": [
    "dataWithOutHeader.map(lambda x: x.split(\",\")).take(10)"
   ]
  },
  {
   "cell_type": "code",
   "execution_count": 7,
   "metadata": {
    "collapsed": true
   },
   "outputs": [],
   "source": [
    "import csv\n",
    "from io import StringIO\n",
    "from collections import namedtuple"
   ]
  },
  {
   "cell_type": "code",
   "execution_count": 8,
   "metadata": {},
   "outputs": [
    {
     "name": "stdout",
     "output_type": "stream",
     "text": [
      "['OBJECTID', 'Identifier', 'Occurrence_Date', 'Day_of_Week', 'Occurrence_Month', 'Occurrence_Day', 'Occurrence_Year', 'Occurrence_Hour', 'CompStat_Month', 'CompStat_Day', 'CompStat_Year', 'Offense', 'Offense_Classification', 'Sector', 'Precinct', 'Borough', 'Jurisdiction', 'XCoordinate', 'YCoordinate', 'Location_1']\n"
     ]
    }
   ],
   "source": [
    "fields = header.replace(\" \",\"_\").replace(\"/\",'_').split(\",\")\n",
    "print(fields)"
   ]
  },
  {
   "cell_type": "code",
   "execution_count": 9,
   "metadata": {},
   "outputs": [
    {
     "name": "stdout",
     "output_type": "stream",
     "text": [
      "from builtins import property as _property, tuple as _tuple\n",
      "from operator import itemgetter as _itemgetter\n",
      "from collections import OrderedDict\n",
      "\n",
      "class Crime(tuple):\n",
      "    'Crime(OBJECTID, Identifier, Occurrence_Date, Day_of_Week, Occurrence_Month, Occurrence_Day, Occurrence_Year, Occurrence_Hour, CompStat_Month, CompStat_Day, CompStat_Year, Offense, Offense_Classification, Sector, Precinct, Borough, Jurisdiction, XCoordinate, YCoordinate, Location_1)'\n",
      "\n",
      "    __slots__ = ()\n",
      "\n",
      "    _fields = ('OBJECTID', 'Identifier', 'Occurrence_Date', 'Day_of_Week', 'Occurrence_Month', 'Occurrence_Day', 'Occurrence_Year', 'Occurrence_Hour', 'CompStat_Month', 'CompStat_Day', 'CompStat_Year', 'Offense', 'Offense_Classification', 'Sector', 'Precinct', 'Borough', 'Jurisdiction', 'XCoordinate', 'YCoordinate', 'Location_1')\n",
      "\n",
      "    def __new__(_cls, OBJECTID, Identifier, Occurrence_Date, Day_of_Week, Occurrence_Month, Occurrence_Day, Occurrence_Year, Occurrence_Hour, CompStat_Month, CompStat_Day, CompStat_Year, Offense, Offense_Classification, Sector, Precinct, Borough, Jurisdiction, XCoordinate, YCoordinate, Location_1):\n",
      "        'Create new instance of Crime(OBJECTID, Identifier, Occurrence_Date, Day_of_Week, Occurrence_Month, Occurrence_Day, Occurrence_Year, Occurrence_Hour, CompStat_Month, CompStat_Day, CompStat_Year, Offense, Offense_Classification, Sector, Precinct, Borough, Jurisdiction, XCoordinate, YCoordinate, Location_1)'\n",
      "        return _tuple.__new__(_cls, (OBJECTID, Identifier, Occurrence_Date, Day_of_Week, Occurrence_Month, Occurrence_Day, Occurrence_Year, Occurrence_Hour, CompStat_Month, CompStat_Day, CompStat_Year, Offense, Offense_Classification, Sector, Precinct, Borough, Jurisdiction, XCoordinate, YCoordinate, Location_1))\n",
      "\n",
      "    @classmethod\n",
      "    def _make(cls, iterable, new=tuple.__new__, len=len):\n",
      "        'Make a new Crime object from a sequence or iterable'\n",
      "        result = new(cls, iterable)\n",
      "        if len(result) != 20:\n",
      "            raise TypeError('Expected 20 arguments, got %d' % len(result))\n",
      "        return result\n",
      "\n",
      "    def _replace(_self, **kwds):\n",
      "        'Return a new Crime object replacing specified fields with new values'\n",
      "        result = _self._make(map(kwds.pop, ('OBJECTID', 'Identifier', 'Occurrence_Date', 'Day_of_Week', 'Occurrence_Month', 'Occurrence_Day', 'Occurrence_Year', 'Occurrence_Hour', 'CompStat_Month', 'CompStat_Day', 'CompStat_Year', 'Offense', 'Offense_Classification', 'Sector', 'Precinct', 'Borough', 'Jurisdiction', 'XCoordinate', 'YCoordinate', 'Location_1'), _self))\n",
      "        if kwds:\n",
      "            raise ValueError('Got unexpected field names: %r' % list(kwds))\n",
      "        return result\n",
      "\n",
      "    def __repr__(self):\n",
      "        'Return a nicely formatted representation string'\n",
      "        return self.__class__.__name__ + '(OBJECTID=%r, Identifier=%r, Occurrence_Date=%r, Day_of_Week=%r, Occurrence_Month=%r, Occurrence_Day=%r, Occurrence_Year=%r, Occurrence_Hour=%r, CompStat_Month=%r, CompStat_Day=%r, CompStat_Year=%r, Offense=%r, Offense_Classification=%r, Sector=%r, Precinct=%r, Borough=%r, Jurisdiction=%r, XCoordinate=%r, YCoordinate=%r, Location_1=%r)' % self\n",
      "\n",
      "    def _asdict(self):\n",
      "        'Return a new OrderedDict which maps field names to their values.'\n",
      "        return OrderedDict(zip(self._fields, self))\n",
      "\n",
      "    def __getnewargs__(self):\n",
      "        'Return self as a plain tuple.  Used by copy and pickle.'\n",
      "        return tuple(self)\n",
      "\n",
      "    OBJECTID = _property(_itemgetter(0), doc='Alias for field number 0')\n",
      "\n",
      "    Identifier = _property(_itemgetter(1), doc='Alias for field number 1')\n",
      "\n",
      "    Occurrence_Date = _property(_itemgetter(2), doc='Alias for field number 2')\n",
      "\n",
      "    Day_of_Week = _property(_itemgetter(3), doc='Alias for field number 3')\n",
      "\n",
      "    Occurrence_Month = _property(_itemgetter(4), doc='Alias for field number 4')\n",
      "\n",
      "    Occurrence_Day = _property(_itemgetter(5), doc='Alias for field number 5')\n",
      "\n",
      "    Occurrence_Year = _property(_itemgetter(6), doc='Alias for field number 6')\n",
      "\n",
      "    Occurrence_Hour = _property(_itemgetter(7), doc='Alias for field number 7')\n",
      "\n",
      "    CompStat_Month = _property(_itemgetter(8), doc='Alias for field number 8')\n",
      "\n",
      "    CompStat_Day = _property(_itemgetter(9), doc='Alias for field number 9')\n",
      "\n",
      "    CompStat_Year = _property(_itemgetter(10), doc='Alias for field number 10')\n",
      "\n",
      "    Offense = _property(_itemgetter(11), doc='Alias for field number 11')\n",
      "\n",
      "    Offense_Classification = _property(_itemgetter(12), doc='Alias for field number 12')\n",
      "\n",
      "    Sector = _property(_itemgetter(13), doc='Alias for field number 13')\n",
      "\n",
      "    Precinct = _property(_itemgetter(14), doc='Alias for field number 14')\n",
      "\n",
      "    Borough = _property(_itemgetter(15), doc='Alias for field number 15')\n",
      "\n",
      "    Jurisdiction = _property(_itemgetter(16), doc='Alias for field number 16')\n",
      "\n",
      "    XCoordinate = _property(_itemgetter(17), doc='Alias for field number 17')\n",
      "\n",
      "    YCoordinate = _property(_itemgetter(18), doc='Alias for field number 18')\n",
      "\n",
      "    Location_1 = _property(_itemgetter(19), doc='Alias for field number 19')\n",
      "\n",
      "\n"
     ]
    }
   ],
   "source": [
    "Crime = namedtuple(\"Crime\", fields, verbose=True)"
   ]
  },
  {
   "cell_type": "code",
   "execution_count": 10,
   "metadata": {
    "collapsed": true
   },
   "outputs": [],
   "source": [
    "def make(row):\n",
    "    reader = csv.reader(StringIO(row))\n",
    "    row = next(reader)\n",
    "    return Crime(*row)"
   ]
  },
  {
   "cell_type": "code",
   "execution_count": 11,
   "metadata": {
    "collapsed": true
   },
   "outputs": [],
   "source": [
    "crimes = dataWithOutHeader.map(make)"
   ]
  },
  {
   "cell_type": "code",
   "execution_count": 12,
   "metadata": {
    "scrolled": true
   },
   "outputs": [
    {
     "data": {
      "text/plain": [
       "Crime(OBJECTID='1', Identifier='f070032d', Occurrence_Date='09/06/1940 07:30:00 PM', Day_of_Week='Friday', Occurrence_Month='Sep', Occurrence_Day='6', Occurrence_Year='1940', Occurrence_Hour='19', CompStat_Month='9', CompStat_Day='7', CompStat_Year='2010', Offense='BURGLARY', Offense_Classification='FELONY', Sector='D', Precinct='66', Borough='BROOKLYN', Jurisdiction='N.Y. POLICE DEPT', XCoordinate='987478', YCoordinate='166141', Location_1='(40.6227027620001, -73.9883732929999)')"
      ]
     },
     "execution_count": 12,
     "metadata": {},
     "output_type": "execute_result"
    }
   ],
   "source": [
    "crimes.first()"
   ]
  },
  {
   "cell_type": "code",
   "execution_count": 13,
   "metadata": {
    "scrolled": true
   },
   "outputs": [
    {
     "data": {
      "text/plain": [
       "'f070032d'"
      ]
     },
     "execution_count": 13,
     "metadata": {},
     "output_type": "execute_result"
    }
   ],
   "source": [
    "crimes.first().Identifier"
   ]
  },
  {
   "cell_type": "code",
   "execution_count": 14,
   "metadata": {},
   "outputs": [
    {
     "data": {
      "text/plain": [
       "'BURGLARY'"
      ]
     },
     "execution_count": 14,
     "metadata": {},
     "output_type": "execute_result"
    }
   ],
   "source": [
    "crimes.first().Offense"
   ]
  },
  {
   "cell_type": "code",
   "execution_count": 15,
   "metadata": {},
   "outputs": [
    {
     "data": {
      "text/plain": [
       "defaultdict(int,\n",
       "            {'BURGLARY': 191369,\n",
       "             'FELONY ASSAULT': 184042,\n",
       "             'GRAND LARCENY': 428993,\n",
       "             'GRAND LARCENY OF MOTOR VEHICLE': 101963,\n",
       "             'MURDER & NON-NEGL. MANSLAUGHTE': 4574,\n",
       "             'NA': 1,\n",
       "             'RAPE': 13779,\n",
       "             'ROBBERY': 198744})"
      ]
     },
     "execution_count": 15,
     "metadata": {},
     "output_type": "execute_result"
    }
   ],
   "source": [
    "crimes.map(lambda x: x.Offense).countByValue()"
   ]
  },
  {
   "cell_type": "code",
   "execution_count": 18,
   "metadata": {},
   "outputs": [
    {
     "data": {
      "text/plain": [
       "defaultdict(int,\n",
       "            {'': 244,\n",
       "             '1905': 2,\n",
       "             '1908': 1,\n",
       "             '1910': 3,\n",
       "             '1911': 1,\n",
       "             '1912': 1,\n",
       "             '1913': 4,\n",
       "             '1914': 2,\n",
       "             '1915': 3,\n",
       "             '1920': 1,\n",
       "             '1940': 1,\n",
       "             '1945': 2,\n",
       "             '1946': 1,\n",
       "             '1950': 1,\n",
       "             '1954': 1,\n",
       "             '1955': 1,\n",
       "             '1956': 1,\n",
       "             '1958': 1,\n",
       "             '1959': 1,\n",
       "             '1960': 1,\n",
       "             '1964': 1,\n",
       "             '1965': 2,\n",
       "             '1966': 7,\n",
       "             '1968': 1,\n",
       "             '1969': 1,\n",
       "             '1970': 2,\n",
       "             '1971': 1,\n",
       "             '1972': 2,\n",
       "             '1973': 5,\n",
       "             '1974': 3,\n",
       "             '1975': 2,\n",
       "             '1976': 2,\n",
       "             '1977': 3,\n",
       "             '1978': 2,\n",
       "             '1979': 6,\n",
       "             '1980': 5,\n",
       "             '1981': 1,\n",
       "             '1982': 5,\n",
       "             '1983': 1,\n",
       "             '1984': 4,\n",
       "             '1985': 8,\n",
       "             '1986': 2,\n",
       "             '1987': 6,\n",
       "             '1988': 6,\n",
       "             '1989': 12,\n",
       "             '1990': 17,\n",
       "             '1991': 12,\n",
       "             '1992': 12,\n",
       "             '1993': 23,\n",
       "             '1994': 19,\n",
       "             '1995': 27,\n",
       "             '1996': 34,\n",
       "             '1997': 40,\n",
       "             '1998': 74,\n",
       "             '1999': 124,\n",
       "             '2000': 282,\n",
       "             '2001': 343,\n",
       "             '2002': 368,\n",
       "             '2003': 490,\n",
       "             '2004': 692,\n",
       "             '2005': 3272,\n",
       "             '2006': 127887,\n",
       "             '2007': 120554,\n",
       "             '2008': 117375,\n",
       "             '2009': 106018,\n",
       "             '2010': 105643,\n",
       "             '2011': 107206,\n",
       "             '2012': 111798,\n",
       "             '2013': 111286,\n",
       "             '2014': 106849,\n",
       "             '2015': 102657})"
      ]
     },
     "execution_count": 18,
     "metadata": {},
     "output_type": "execute_result"
    }
   ],
   "source": [
    "crimes.map(lambda x: x.Occurrence_Year).countByValue()"
   ]
  },
  {
   "cell_type": "code",
   "execution_count": 16,
   "metadata": {
    "collapsed": true
   },
   "outputs": [],
   "source": [
    "crimeFiltered = crimes.filter(lambda x: not(x.Offense == 'NA' or x.Occurrence_Year == '')) \\\n",
    "                       .filter(lambda x: int(x.Occurrence_Year) >= 2006)"
   ]
  },
  {
   "cell_type": "code",
   "execution_count": 17,
   "metadata": {},
   "outputs": [
    {
     "data": {
      "text/plain": [
       "defaultdict(int,\n",
       "            {'2006': 127887,\n",
       "             '2007': 120554,\n",
       "             '2008': 117375,\n",
       "             '2009': 106018,\n",
       "             '2010': 105643,\n",
       "             '2011': 107206,\n",
       "             '2012': 111798,\n",
       "             '2013': 111286,\n",
       "             '2014': 106849,\n",
       "             '2015': 102657})"
      ]
     },
     "execution_count": 17,
     "metadata": {},
     "output_type": "execute_result"
    }
   ],
   "source": [
    "crimeFiltered.map(lambda x: x.Occurrence_Year).countByValue()"
   ]
  },
  {
   "cell_type": "markdown",
   "metadata": {},
   "source": [
    "This function will extract the location and seperate them in terms of lattitudes and longitudes and returns two seperate python list"
   ]
  },
  {
   "cell_type": "code",
   "execution_count": 18,
   "metadata": {
    "collapsed": true
   },
   "outputs": [],
   "source": [
    "def extractCoords(locations):\n",
    "    loc_latt = float(locations[1:locations.index(\",\")])\n",
    "    loc_long = float(locations[locations.index(\",\")+1:-1])\n",
    "    return (loc_latt, loc_long)"
   ]
  },
  {
   "cell_type": "code",
   "execution_count": 19,
   "metadata": {},
   "outputs": [
    {
     "data": {
      "text/plain": [
       "(40.112709974, -77.519206334)"
      ]
     },
     "execution_count": 19,
     "metadata": {},
     "output_type": "execute_result"
    }
   ],
   "source": [
    "#Finding maximum and minimum location lattitude and longitude values in our code\n",
    "crimeFiltered.map(lambda x : extractCoords(x.Location_1)) \\\n",
    "            .reduce(lambda x,y : (min(x[0], y[0]), min(x[1], y[1])))"
   ]
  },
  {
   "cell_type": "code",
   "execution_count": 20,
   "metadata": {},
   "outputs": [
    {
     "data": {
      "text/plain": [
       "(59.5805088160001, -73.700716685)"
      ]
     },
     "execution_count": 20,
     "metadata": {},
     "output_type": "execute_result"
    }
   ],
   "source": [
    "crimeFiltered.map(lambda x : extractCoords(x.Location_1)) \\\n",
    "            .reduce(lambda x,y : (max(x[0], y[0]), max(x[1], y[1])))"
   ]
  },
  {
   "cell_type": "markdown",
   "metadata": {},
   "source": [
    "Setting minimum and maximum coordinated for NewYork to get the actual crime in newyork and remove anamolies that are outside of the newyork"
   ]
  },
  {
   "cell_type": "code",
   "execution_count": 21,
   "metadata": {
    "collapsed": true
   },
   "outputs": [],
   "source": [
    "crimesFinal =  crimeFiltered.filter(lambda x: extractCoords(x.Location_1)[0]>=40.477399 and \\\n",
    "                                    extractCoords(x.Location_1)[0]<=40.917577 and \\\n",
    "                                    extractCoords(x.Location_1)[1]>=-74.25909 and  \\\n",
    "                                    extractCoords(x.Location_1)[1]<=-73.700009)"
   ]
  },
  {
   "cell_type": "code",
   "execution_count": 22,
   "metadata": {},
   "outputs": [
    {
     "data": {
      "text/plain": [
       "defaultdict(int,\n",
       "            {'2006': 127887,\n",
       "             '2007': 120491,\n",
       "             '2008': 117375,\n",
       "             '2009': 106018,\n",
       "             '2010': 105639,\n",
       "             '2011': 107203,\n",
       "             '2012': 111798,\n",
       "             '2013': 111286,\n",
       "             '2014': 106849,\n",
       "             '2015': 102657})"
      ]
     },
     "execution_count": 22,
     "metadata": {},
     "output_type": "execute_result"
    }
   ],
   "source": [
    "crimesFinal.map(lambda x : x.Occurrence_Year).countByValue()"
   ]
  },
  {
   "cell_type": "code",
   "execution_count": 23,
   "metadata": {},
   "outputs": [
    {
     "data": {
      "text/plain": [
       "defaultdict(int,\n",
       "            {'2006': 23069,\n",
       "             '2007': 21715,\n",
       "             '2008': 20732,\n",
       "             '2009': 19441,\n",
       "             '2010': 18700,\n",
       "             '2011': 18860,\n",
       "             '2012': 19309,\n",
       "             '2013': 17419,\n",
       "             '2014': 16832,\n",
       "             '2015': 14967})"
      ]
     },
     "execution_count": 23,
     "metadata": {},
     "output_type": "execute_result"
    }
   ],
   "source": [
    "crimesFinal.filter(lambda x : x.Offense == \"BURGLARY\") \\\n",
    "            .map(lambda x : x.Occurrence_Year) \\\n",
    "            .countByValue()"
   ]
  },
  {
   "cell_type": "code",
   "execution_count": 25,
   "metadata": {},
   "outputs": [],
   "source": [
    "import gmplot\n",
    "gmap = gmplot.GoogleMapPlotter(37.428, -122.145, 16).from_geocode(\"New York City\")"
   ]
  },
  {
   "cell_type": "code",
   "execution_count": 26,
   "metadata": {
    "collapsed": true
   },
   "outputs": [],
   "source": [
    "n_lat = crimesFinal.filter(lambda x : x.Offense == \"BURGLARY\" and x.Occurrence_Year == \"2015\") \\\n",
    "                .map(lambda x : extractCoords(x.Location_1)[0]) \\\n",
    "                .collect()"
   ]
  },
  {
   "cell_type": "code",
   "execution_count": 27,
   "metadata": {
    "collapsed": true
   },
   "outputs": [],
   "source": [
    "n_long = crimesFinal.filter(lambda x : x.Offense == \"BURGLARY\" and x.Occurrence_Year == \"2015\") \\\n",
    "                .map(lambda x : extractCoords(x.Location_1)[1]) \\\n",
    "                .collect()"
   ]
  },
  {
   "cell_type": "code",
   "execution_count": 28,
   "metadata": {
    "collapsed": true
   },
   "outputs": [],
   "source": [
    "gmap.scatter(n_lat, n_long, '#DE1515', size=40, marker=False)"
   ]
  },
  {
   "cell_type": "code",
   "execution_count": 29,
   "metadata": {
    "collapsed": true
   },
   "outputs": [],
   "source": [
    "gmap.draw(\"NewYorkBurglary.html\")"
   ]
  }
 ],
 "metadata": {
  "kernelspec": {
   "display_name": "Python 3",
   "language": "python",
   "name": "python3"
  },
  "language_info": {
   "codemirror_mode": {
    "name": "ipython",
    "version": 3
   },
   "file_extension": ".py",
   "mimetype": "text/x-python",
   "name": "python",
   "nbconvert_exporter": "python",
   "pygments_lexer": "ipython3",
   "version": "3.6.3"
  }
 },
 "nbformat": 4,
 "nbformat_minor": 2
}
