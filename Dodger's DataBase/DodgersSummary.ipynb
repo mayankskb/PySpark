{
 "cells": [
  {
   "cell_type": "code",
   "execution_count": 1,
   "metadata": {
    "collapsed": true
   },
   "outputs": [],
   "source": [
    "trafficPath = \"file:///home/mayank/Dodgers.data\"\n",
    "gamePath = \"file:///home/mayank/Dodgers.events\""
   ]
  },
  {
   "cell_type": "code",
   "execution_count": 3,
   "metadata": {},
   "outputs": [
    {
     "data": {
      "text/plain": [
       "['4/10/2005 0:00,-1',\n",
       " '4/10/2005 0:05,-1',\n",
       " '4/10/2005 0:10,-1',\n",
       " '4/10/2005 0:15,-1',\n",
       " '4/10/2005 0:20,-1',\n",
       " '4/10/2005 0:25,-1',\n",
       " '4/10/2005 0:30,-1',\n",
       " '4/10/2005 0:35,-1',\n",
       " '4/10/2005 0:40,-1',\n",
       " '4/10/2005 0:45,-1']"
      ]
     },
     "execution_count": 3,
     "metadata": {},
     "output_type": "execute_result"
    }
   ],
   "source": [
    "traffic = sc.textFile(trafficPath)\n",
    "traffic.take(10)"
   ]
  },
  {
   "cell_type": "code",
   "execution_count": 5,
   "metadata": {},
   "outputs": [
    {
     "data": {
      "text/plain": [
       "['04/12/05,13:10:00,16:23:00,55892,San Francisco,W 9-8�',\n",
       " '04/13/05,19:10:00,21:48:00,46514,San Francisco,W 4-1�',\n",
       " '04/15/05,19:40:00,21:48:00,51816,San Diego,W 4-0�',\n",
       " '04/16/05,19:10:00,21:52:00,54704,San Diego,W 8-3�',\n",
       " '04/17/05,13:10:00,15:31:00,53402,San Diego,W 6-0�',\n",
       " '04/25/05,19:10:00,21:33:00,36876,Arizona,L 4-2�',\n",
       " '04/26/05,19:10:00,22:00:00,44486,Arizona,L 3-2�',\n",
       " '04/27/05,19:10:00,22:17:00,54387,Arizona,L 6-3�',\n",
       " '04/29/05,19:40:00,22:01:00,40150,Colorado,W 6-3�',\n",
       " '04/30/05,19:10:00,21:45:00,54123,Colorado,W 6-2�']"
      ]
     },
     "execution_count": 5,
     "metadata": {},
     "output_type": "execute_result"
    }
   ],
   "source": [
    "game = sc.textFile(gamePath)\n",
    "game.take(10)"
   ]
  },
  {
   "cell_type": "code",
   "execution_count": 25,
   "metadata": {
    "collapsed": true
   },
   "outputs": [],
   "source": [
    "from datetime import datetime\n",
    "import csv\n",
    "from io import StringIO\n",
    "\n",
    "\n",
    "def parseTraffic(row):\n",
    "    DATE_FMT = \"%m/%d/%Y %H:%M\"\n",
    "    row = row.split(\",\")\n",
    "    row[0] = datetime.strptime(row[0], DATE_FMT)\n",
    "    row[1] = int(row[1])\n",
    "    return (row[0], row[1])"
   ]
  },
  {
   "cell_type": "code",
   "execution_count": 26,
   "metadata": {},
   "outputs": [],
   "source": [
    "trafficParsed = traffic.map(parseTraffic)"
   ]
  },
  {
   "cell_type": "code",
   "execution_count": 28,
   "metadata": {
    "scrolled": true
   },
   "outputs": [
    {
     "data": {
      "text/plain": [
       "[(datetime.datetime(2005, 4, 10, 0, 0), -1),\n",
       " (datetime.datetime(2005, 4, 10, 0, 5), -1),\n",
       " (datetime.datetime(2005, 4, 10, 0, 10), -1),\n",
       " (datetime.datetime(2005, 4, 10, 0, 15), -1),\n",
       " (datetime.datetime(2005, 4, 10, 0, 20), -1),\n",
       " (datetime.datetime(2005, 4, 10, 0, 25), -1),\n",
       " (datetime.datetime(2005, 4, 10, 0, 30), -1),\n",
       " (datetime.datetime(2005, 4, 10, 0, 35), -1),\n",
       " (datetime.datetime(2005, 4, 10, 0, 40), -1),\n",
       " (datetime.datetime(2005, 4, 10, 0, 45), -1)]"
      ]
     },
     "execution_count": 28,
     "metadata": {},
     "output_type": "execute_result"
    }
   ],
   "source": [
    "trafficParsed.take(10)"
   ]
  },
  {
   "cell_type": "code",
   "execution_count": null,
   "metadata": {
    "collapsed": true
   },
   "outputs": [],
   "source": [
    "  "
   ]
  }
 ],
 "metadata": {
  "kernelspec": {
   "display_name": "Python 3",
   "language": "python",
   "name": "python3"
  },
  "language_info": {
   "codemirror_mode": {
    "name": "ipython",
    "version": 3
   },
   "file_extension": ".py",
   "mimetype": "text/x-python",
   "name": "python",
   "nbconvert_exporter": "python",
   "pygments_lexer": "ipython3",
   "version": "3.6.3"
  }
 },
 "nbformat": 4,
 "nbformat_minor": 2
}
