{
 "cells": [
  {
   "cell_type": "code",
   "execution_count": 1,
   "metadata": {
    "collapsed": true
   },
   "outputs": [],
   "source": [
    "import findspark\n",
    "findspark.init(\"/usr/local/spark/spark-2.2.1-bin-hadoop2.7\")"
   ]
  },
  {
   "cell_type": "code",
   "execution_count": 2,
   "metadata": {
    "collapsed": true
   },
   "outputs": [],
   "source": [
    "from pyspark.sql import SparkSession\n",
    "spark = SparkSession.builder.appName('Dodgers').getOrCreate()"
   ]
  },
  {
   "cell_type": "code",
   "execution_count": 3,
   "metadata": {
    "collapsed": true
   },
   "outputs": [],
   "source": [
    "traffic = spark.read.csv('Dodgers.data', inferSchema=True, header=False)"
   ]
  },
  {
   "cell_type": "code",
   "execution_count": 4,
   "metadata": {
    "scrolled": true
   },
   "outputs": [
    {
     "data": {
      "text/plain": [
       "[Row(_c0='4/10/2005 0:00', _c1=-1),\n",
       " Row(_c0='4/10/2005 0:05', _c1=-1),\n",
       " Row(_c0='4/10/2005 0:10', _c1=-1),\n",
       " Row(_c0='4/10/2005 0:15', _c1=-1),\n",
       " Row(_c0='4/10/2005 0:20', _c1=-1),\n",
       " Row(_c0='4/10/2005 0:25', _c1=-1),\n",
       " Row(_c0='4/10/2005 0:30', _c1=-1),\n",
       " Row(_c0='4/10/2005 0:35', _c1=-1),\n",
       " Row(_c0='4/10/2005 0:40', _c1=-1),\n",
       " Row(_c0='4/10/2005 0:45', _c1=-1)]"
      ]
     },
     "execution_count": 4,
     "metadata": {},
     "output_type": "execute_result"
    }
   ],
   "source": [
    "traffic.head(10)"
   ]
  },
  {
   "cell_type": "code",
   "execution_count": 5,
   "metadata": {
    "scrolled": true
   },
   "outputs": [
    {
     "name": "stdout",
     "output_type": "stream",
     "text": [
      "root\n",
      " |-- _c0: string (nullable = true)\n",
      " |-- _c1: integer (nullable = true)\n",
      "\n"
     ]
    }
   ],
   "source": [
    "traffic.printSchema()"
   ]
  },
  {
   "cell_type": "code",
   "execution_count": 6,
   "metadata": {
    "collapsed": true
   },
   "outputs": [],
   "source": [
    "from datetime import datetime\n",
    "import csv\n",
    "from io import StringIO\n",
    "\n",
    "\n",
    "def parsedates(row):\n",
    "    DATE_FMT = \"%m/%d/%Y %H:%M\"\n",
    "    row = row.split(\",\")\n",
    "    row[0] = datetime.strptime(row[0], DATE_FMT)\n",
    "    return row[0]\n"
   ]
  },
  {
   "cell_type": "code",
   "execution_count": 7,
   "metadata": {},
   "outputs": [
    {
     "data": {
      "text/plain": [
       "['_c0', '_c1']"
      ]
     },
     "execution_count": 7,
     "metadata": {},
     "output_type": "execute_result"
    }
   ],
   "source": [
    "traffic.columns"
   ]
  },
  {
   "cell_type": "code",
   "execution_count": 8,
   "metadata": {
    "collapsed": true
   },
   "outputs": [],
   "source": [
    "from pyspark.sql.functions import udf\n",
    "from pyspark.sql.types import *\n",
    "date_udf = udf(parsedates, DateType())"
   ]
  },
  {
   "cell_type": "code",
   "execution_count": 9,
   "metadata": {
    "collapsed": true
   },
   "outputs": [],
   "source": [
    "newTraffic = traffic.withColumn('Date',date_udf(traffic._c0))"
   ]
  },
  {
   "cell_type": "code",
   "execution_count": 10,
   "metadata": {
    "scrolled": true
   },
   "outputs": [
    {
     "name": "stdout",
     "output_type": "stream",
     "text": [
      "+--------------+---+----------+\n",
      "|           _c0|_c1|      Date|\n",
      "+--------------+---+----------+\n",
      "|4/10/2005 0:00| -1|2005-04-10|\n",
      "|4/10/2005 0:05| -1|2005-04-10|\n",
      "|4/10/2005 0:10| -1|2005-04-10|\n",
      "|4/10/2005 0:15| -1|2005-04-10|\n",
      "|4/10/2005 0:20| -1|2005-04-10|\n",
      "|4/10/2005 0:25| -1|2005-04-10|\n",
      "|4/10/2005 0:30| -1|2005-04-10|\n",
      "|4/10/2005 0:35| -1|2005-04-10|\n",
      "|4/10/2005 0:40| -1|2005-04-10|\n",
      "|4/10/2005 0:45| -1|2005-04-10|\n",
      "|4/10/2005 0:50| -1|2005-04-10|\n",
      "|4/10/2005 0:55| -1|2005-04-10|\n",
      "|4/10/2005 1:00| -1|2005-04-10|\n",
      "|4/10/2005 1:05| -1|2005-04-10|\n",
      "|4/10/2005 1:10| -1|2005-04-10|\n",
      "|4/10/2005 1:15| -1|2005-04-10|\n",
      "|4/10/2005 1:20| -1|2005-04-10|\n",
      "|4/10/2005 1:25| -1|2005-04-10|\n",
      "|4/10/2005 1:30| -1|2005-04-10|\n",
      "|4/10/2005 1:35| -1|2005-04-10|\n",
      "+--------------+---+----------+\n",
      "only showing top 20 rows\n",
      "\n"
     ]
    }
   ],
   "source": [
    "newTraffic.show()"
   ]
  },
  {
   "cell_type": "code",
   "execution_count": 11,
   "metadata": {
    "scrolled": true
   },
   "outputs": [
    {
     "name": "stdout",
     "output_type": "stream",
     "text": [
      "+----------+---+\n",
      "|      Date|_C1|\n",
      "+----------+---+\n",
      "|2005-04-10| -1|\n",
      "|2005-04-10| -1|\n",
      "|2005-04-10| -1|\n",
      "|2005-04-10| -1|\n",
      "|2005-04-10| -1|\n",
      "|2005-04-10| -1|\n",
      "|2005-04-10| -1|\n",
      "|2005-04-10| -1|\n",
      "|2005-04-10| -1|\n",
      "|2005-04-10| -1|\n",
      "|2005-04-10| -1|\n",
      "|2005-04-10| -1|\n",
      "|2005-04-10| -1|\n",
      "|2005-04-10| -1|\n",
      "|2005-04-10| -1|\n",
      "|2005-04-10| -1|\n",
      "|2005-04-10| -1|\n",
      "|2005-04-10| -1|\n",
      "|2005-04-10| -1|\n",
      "|2005-04-10| -1|\n",
      "+----------+---+\n",
      "only showing top 20 rows\n",
      "\n"
     ]
    }
   ],
   "source": [
    "TrafficParsred = newTraffic.select(newTraffic['Date'],newTraffic['_C1'])\n",
    "TrafficParsred.show()"
   ]
  },
  {
   "cell_type": "code",
   "execution_count": 12,
   "metadata": {},
   "outputs": [
    {
     "name": "stdout",
     "output_type": "stream",
     "text": [
      "+----------+--------+\n",
      "|      Date|sum(_C1)|\n",
      "+----------+--------+\n",
      "|2005-07-28|    7661|\n",
      "|2005-07-29|    7499|\n",
      "|2005-08-12|    7287|\n",
      "|2005-07-27|    7238|\n",
      "|2005-09-23|    7175|\n",
      "|2005-07-26|    7163|\n",
      "|2005-05-20|    7119|\n",
      "|2005-08-11|    7110|\n",
      "|2005-09-08|    7107|\n",
      "|2005-09-07|    7082|\n",
      "|2005-09-30|    7079|\n",
      "|2005-08-10|    7060|\n",
      "|2005-07-22|    7028|\n",
      "|2005-08-05|    6924|\n",
      "|2005-09-29|    6917|\n",
      "|2005-07-25|    6898|\n",
      "|2005-09-09|    6897|\n",
      "|2005-09-16|    6885|\n",
      "|2005-09-28|    6831|\n",
      "|2005-04-12|    6822|\n",
      "+----------+--------+\n",
      "only showing top 20 rows\n",
      "\n"
     ]
    }
   ],
   "source": [
    "from pyspark.sql.functions import desc\n",
    "trafficsum = TrafficParsred.groupBy('Date').sum()\n",
    "trafficsum.sort(desc('sum(_C1)')).show()"
   ]
  },
  {
   "cell_type": "code",
   "execution_count": 13,
   "metadata": {
    "collapsed": true
   },
   "outputs": [],
   "source": [
    "game = spark.read.csv('Dodgers.events', header = False, inferSchema=True)"
   ]
  },
  {
   "cell_type": "code",
   "execution_count": 14,
   "metadata": {
    "scrolled": true
   },
   "outputs": [
    {
     "name": "stdout",
     "output_type": "stream",
     "text": [
      "+--------+--------+--------+-----+-------------+-------+\n",
      "|     _c0|     _c1|     _c2|  _c3|          _c4|    _c5|\n",
      "+--------+--------+--------+-----+-------------+-------+\n",
      "|04/12/05|13:10:00|16:23:00|55892|San Francisco| W 9-8�|\n",
      "|04/13/05|19:10:00|21:48:00|46514|San Francisco| W 4-1�|\n",
      "|04/15/05|19:40:00|21:48:00|51816|    San Diego| W 4-0�|\n",
      "|04/16/05|19:10:00|21:52:00|54704|    San Diego| W 8-3�|\n",
      "|04/17/05|13:10:00|15:31:00|53402|    San Diego| W 6-0�|\n",
      "|04/25/05|19:10:00|21:33:00|36876|      Arizona| L 4-2�|\n",
      "|04/26/05|19:10:00|22:00:00|44486|      Arizona| L 3-2�|\n",
      "|04/27/05|19:10:00|22:17:00|54387|      Arizona| L 6-3�|\n",
      "|04/29/05|19:40:00|22:01:00|40150|     Colorado| W 6-3�|\n",
      "|04/30/05|19:10:00|21:45:00|54123|     Colorado| W 6-2�|\n",
      "|05/01/05|13:10:00|15:53:00|46243|     Colorado| W 2-1�|\n",
      "|05/02/05|19:10:00|21:53:00|34079|   Washington| L 6-2�|\n",
      "|05/03/05|19:10:00|22:13:00|41190|   Washington| W 4-2�|\n",
      "|05/04/05|19:10:00|22:08:00|33081|   Washington| L 5-2�|\n",
      "|05/13/05|19:40:00|22:17:00|53689|      Atlanta| W 7-4�|\n",
      "|05/14/05|19:10:00|21:31:00|49112|      Atlanta| L 5-1�|\n",
      "|05/15/05|12:10:00|14:53:00|53239|      Atlanta| L 5-2�|\n",
      "|05/16/05|19:10:00|22:03:00|46632|      Florida| L 6-2�|\n",
      "|05/17/05|19:10:00|21:52:00|37481|      Florida|W 14-5�|\n",
      "|05/18/05|12:10:00|15:12:00|34441|      Florida| L 8-3�|\n",
      "+--------+--------+--------+-----+-------------+-------+\n",
      "only showing top 20 rows\n",
      "\n"
     ]
    }
   ],
   "source": [
    "game.show()"
   ]
  },
  {
   "cell_type": "code",
   "execution_count": 15,
   "metadata": {
    "collapsed": true
   },
   "outputs": [],
   "source": [
    "def parseGames(row):\n",
    "    DATE_FMT = \"%m/%d/%y\"\n",
    "    row = row.split(\",\")\n",
    "    row[0] = datetime.strptime(row[0],DATE_FMT).date()\n",
    "    return row[0]\n"
   ]
  },
  {
   "cell_type": "code",
   "execution_count": 16,
   "metadata": {
    "collapsed": true
   },
   "outputs": [],
   "source": [
    "gamedate_udf = udf(parseGames, DateType())"
   ]
  },
  {
   "cell_type": "code",
   "execution_count": 17,
   "metadata": {},
   "outputs": [
    {
     "data": {
      "text/plain": [
       "['_c0', '_c1', '_c2', '_c3', '_c4', '_c5']"
      ]
     },
     "execution_count": 17,
     "metadata": {},
     "output_type": "execute_result"
    }
   ],
   "source": [
    "game.columns"
   ]
  },
  {
   "cell_type": "code",
   "execution_count": 18,
   "metadata": {
    "collapsed": true
   },
   "outputs": [],
   "source": [
    "newgame = game.withColumn('Date',gamedate_udf(game['_c0']))"
   ]
  },
  {
   "cell_type": "code",
   "execution_count": 19,
   "metadata": {
    "scrolled": true
   },
   "outputs": [
    {
     "data": {
      "text/plain": [
       "[Row(_c0='04/12/05', _c1='13:10:00', _c2='16:23:00', _c3=55892, _c4='San Francisco', _c5='W 9-8�')]"
      ]
     },
     "execution_count": 19,
     "metadata": {},
     "output_type": "execute_result"
    }
   ],
   "source": [
    "game.head(1)"
   ]
  },
  {
   "cell_type": "code",
   "execution_count": 20,
   "metadata": {
    "scrolled": true
   },
   "outputs": [
    {
     "name": "stdout",
     "output_type": "stream",
     "text": [
      "root\n",
      " |-- _c0: string (nullable = true)\n",
      " |-- _c1: string (nullable = true)\n",
      " |-- _c2: string (nullable = true)\n",
      " |-- _c3: integer (nullable = true)\n",
      " |-- _c4: string (nullable = true)\n",
      " |-- _c5: string (nullable = true)\n",
      "\n"
     ]
    }
   ],
   "source": [
    "game.printSchema()"
   ]
  },
  {
   "cell_type": "code",
   "execution_count": 21,
   "metadata": {
    "scrolled": true
   },
   "outputs": [
    {
     "name": "stdout",
     "output_type": "stream",
     "text": [
      "+--------+--------+--------+-----+-------------+-------+----------+\n",
      "|     _c0|     _c1|     _c2|  _c3|          _c4|    _c5|      Date|\n",
      "+--------+--------+--------+-----+-------------+-------+----------+\n",
      "|04/12/05|13:10:00|16:23:00|55892|San Francisco| W 9-8�|2005-04-12|\n",
      "|04/13/05|19:10:00|21:48:00|46514|San Francisco| W 4-1�|2005-04-13|\n",
      "|04/15/05|19:40:00|21:48:00|51816|    San Diego| W 4-0�|2005-04-15|\n",
      "|04/16/05|19:10:00|21:52:00|54704|    San Diego| W 8-3�|2005-04-16|\n",
      "|04/17/05|13:10:00|15:31:00|53402|    San Diego| W 6-0�|2005-04-17|\n",
      "|04/25/05|19:10:00|21:33:00|36876|      Arizona| L 4-2�|2005-04-25|\n",
      "|04/26/05|19:10:00|22:00:00|44486|      Arizona| L 3-2�|2005-04-26|\n",
      "|04/27/05|19:10:00|22:17:00|54387|      Arizona| L 6-3�|2005-04-27|\n",
      "|04/29/05|19:40:00|22:01:00|40150|     Colorado| W 6-3�|2005-04-29|\n",
      "|04/30/05|19:10:00|21:45:00|54123|     Colorado| W 6-2�|2005-04-30|\n",
      "|05/01/05|13:10:00|15:53:00|46243|     Colorado| W 2-1�|2005-05-01|\n",
      "|05/02/05|19:10:00|21:53:00|34079|   Washington| L 6-2�|2005-05-02|\n",
      "|05/03/05|19:10:00|22:13:00|41190|   Washington| W 4-2�|2005-05-03|\n",
      "|05/04/05|19:10:00|22:08:00|33081|   Washington| L 5-2�|2005-05-04|\n",
      "|05/13/05|19:40:00|22:17:00|53689|      Atlanta| W 7-4�|2005-05-13|\n",
      "|05/14/05|19:10:00|21:31:00|49112|      Atlanta| L 5-1�|2005-05-14|\n",
      "|05/15/05|12:10:00|14:53:00|53239|      Atlanta| L 5-2�|2005-05-15|\n",
      "|05/16/05|19:10:00|22:03:00|46632|      Florida| L 6-2�|2005-05-16|\n",
      "|05/17/05|19:10:00|21:52:00|37481|      Florida|W 14-5�|2005-05-17|\n",
      "|05/18/05|12:10:00|15:12:00|34441|      Florida| L 8-3�|2005-05-18|\n",
      "+--------+--------+--------+-----+-------------+-------+----------+\n",
      "only showing top 20 rows\n",
      "\n"
     ]
    }
   ],
   "source": [
    "newgame.show()"
   ]
  },
  {
   "cell_type": "code",
   "execution_count": 22,
   "metadata": {
    "scrolled": true
   },
   "outputs": [
    {
     "name": "stdout",
     "output_type": "stream",
     "text": [
      "+----------+-------------+\n",
      "|      Date|          _c4|\n",
      "+----------+-------------+\n",
      "|2005-04-12|San Francisco|\n",
      "|2005-04-13|San Francisco|\n",
      "|2005-04-15|    San Diego|\n",
      "|2005-04-16|    San Diego|\n",
      "|2005-04-17|    San Diego|\n",
      "|2005-04-25|      Arizona|\n",
      "|2005-04-26|      Arizona|\n",
      "|2005-04-27|      Arizona|\n",
      "|2005-04-29|     Colorado|\n",
      "|2005-04-30|     Colorado|\n",
      "|2005-05-01|     Colorado|\n",
      "|2005-05-02|   Washington|\n",
      "|2005-05-03|   Washington|\n",
      "|2005-05-04|   Washington|\n",
      "|2005-05-13|      Atlanta|\n",
      "|2005-05-14|      Atlanta|\n",
      "|2005-05-15|      Atlanta|\n",
      "|2005-05-16|      Florida|\n",
      "|2005-05-17|      Florida|\n",
      "|2005-05-18|      Florida|\n",
      "+----------+-------------+\n",
      "only showing top 20 rows\n",
      "\n"
     ]
    }
   ],
   "source": [
    "gameParsed = newgame.select(newgame['Date'], newgame['_c4'])\n",
    "gameParsed.show()"
   ]
  },
  {
   "cell_type": "code",
   "execution_count": 23,
   "metadata": {
    "collapsed": true
   },
   "outputs": [],
   "source": [
    "dailytrend = trafficsum.join(gameParsed, 'Date','left')"
   ]
  },
  {
   "cell_type": "code",
   "execution_count": 24,
   "metadata": {
    "scrolled": true
   },
   "outputs": [
    {
     "name": "stdout",
     "output_type": "stream",
     "text": [
      "+----------+--------+-------------+\n",
      "|      Date|sum(_C1)|          _c4|\n",
      "+----------+--------+-------------+\n",
      "|2005-06-06|    6578|      Detroit|\n",
      "|2005-08-03|    6673|         null|\n",
      "|2005-08-14|    5579|      NY Mets|\n",
      "|2005-08-27|    5663|      Houston|\n",
      "|2005-08-08|    5979|         null|\n",
      "|2005-09-20|    6150|         null|\n",
      "|2005-06-09|    5867|         null|\n",
      "|2005-09-01|    6444|         null|\n",
      "|2005-09-28|    6831|      Arizona|\n",
      "|2005-06-27|    2907|    San Diego|\n",
      "|2005-09-19|    6184|         null|\n",
      "|2005-04-12|    6822|San Francisco|\n",
      "|2005-05-10|    6063|         null|\n",
      "|2005-06-14|    5966|         null|\n",
      "|2005-05-11|    6004|         null|\n",
      "|2005-09-26|    6394|   Pittsburgh|\n",
      "|2005-05-23|    2173|         null|\n",
      "|2005-09-14|    5631|     Colorado|\n",
      "|2005-09-25|    4991|   Pittsburgh|\n",
      "|2005-04-20|    6166|         null|\n",
      "+----------+--------+-------------+\n",
      "only showing top 20 rows\n",
      "\n"
     ]
    }
   ],
   "source": [
    "dailytrend.show()"
   ]
  },
  {
   "cell_type": "code",
   "execution_count": 25,
   "metadata": {
    "collapsed": true
   },
   "outputs": [],
   "source": [
    "def checkGameDay(row):\n",
    "    if row == None:\n",
    "        return \"Regular Day\"\n",
    "    else:\n",
    "        return \"Game Day\"\n",
    "    \n",
    "    \n",
    "checkgame_udf = udf(checkGameDay, StringType())"
   ]
  },
  {
   "cell_type": "code",
   "execution_count": 26,
   "metadata": {
    "collapsed": true
   },
   "outputs": [],
   "source": [
    "dailyTrendbyGames = dailytrend.withColumn('Status',checkgame_udf(dailytrend['_c4']))"
   ]
  },
  {
   "cell_type": "code",
   "execution_count": 27,
   "metadata": {
    "scrolled": true
   },
   "outputs": [
    {
     "name": "stdout",
     "output_type": "stream",
     "text": [
      "+----------+--------+-------------+-----------+\n",
      "|      Date|sum(_C1)|          _c4|     Status|\n",
      "+----------+--------+-------------+-----------+\n",
      "|2005-06-06|    6578|      Detroit|   Game Day|\n",
      "|2005-08-03|    6673|         null|Regular Day|\n",
      "|2005-08-14|    5579|      NY Mets|   Game Day|\n",
      "|2005-08-27|    5663|      Houston|   Game Day|\n",
      "|2005-08-08|    5979|         null|Regular Day|\n",
      "|2005-09-20|    6150|         null|Regular Day|\n",
      "|2005-06-09|    5867|         null|Regular Day|\n",
      "|2005-09-01|    6444|         null|Regular Day|\n",
      "|2005-09-28|    6831|      Arizona|   Game Day|\n",
      "|2005-06-27|    2907|    San Diego|   Game Day|\n",
      "|2005-09-19|    6184|         null|Regular Day|\n",
      "|2005-04-12|    6822|San Francisco|   Game Day|\n",
      "|2005-05-10|    6063|         null|Regular Day|\n",
      "|2005-06-14|    5966|         null|Regular Day|\n",
      "|2005-05-11|    6004|         null|Regular Day|\n",
      "|2005-09-26|    6394|   Pittsburgh|   Game Day|\n",
      "|2005-05-23|    2173|         null|Regular Day|\n",
      "|2005-09-14|    5631|     Colorado|   Game Day|\n",
      "|2005-09-25|    4991|   Pittsburgh|   Game Day|\n",
      "|2005-04-20|    6166|         null|Regular Day|\n",
      "+----------+--------+-------------+-----------+\n",
      "only showing top 20 rows\n",
      "\n"
     ]
    }
   ],
   "source": [
    "dailyTrendbyGames.show()"
   ]
  },
  {
   "cell_type": "code",
   "execution_count": 28,
   "metadata": {
    "scrolled": true
   },
   "outputs": [
    {
     "name": "stdout",
     "output_type": "stream",
     "text": [
      "+----------+--------+-------------+-----------+\n",
      "|      Date|sum(_C1)|          _c4|     Status|\n",
      "+----------+--------+-------------+-----------+\n",
      "|2005-07-28|    7661|   Cincinnati|   Game Day|\n",
      "|2005-07-29|    7499|    St. Louis|   Game Day|\n",
      "|2005-08-12|    7287|      NY Mets|   Game Day|\n",
      "|2005-07-27|    7238|   Cincinnati|   Game Day|\n",
      "|2005-09-23|    7175|   Pittsburgh|   Game Day|\n",
      "|2005-07-26|    7163|   Cincinnati|   Game Day|\n",
      "|2005-05-20|    7119|    LA Angels|   Game Day|\n",
      "|2005-08-11|    7110| Philadelphia|   Game Day|\n",
      "|2005-09-08|    7107|         null|Regular Day|\n",
      "|2005-09-07|    7082|San Francisco|   Game Day|\n",
      "|2005-09-30|    7079|         null|Regular Day|\n",
      "|2005-08-10|    7060| Philadelphia|   Game Day|\n",
      "|2005-07-22|    7028|         null|Regular Day|\n",
      "|2005-08-05|    6924|         null|Regular Day|\n",
      "|2005-09-29|    6917|      Arizona|   Game Day|\n",
      "|2005-07-25|    6898|   Cincinnati|   Game Day|\n",
      "|2005-09-09|    6897|    San Diego|   Game Day|\n",
      "|2005-09-16|    6885|         null|Regular Day|\n",
      "|2005-09-28|    6831|      Arizona|   Game Day|\n",
      "|2005-04-12|    6822|San Francisco|   Game Day|\n",
      "+----------+--------+-------------+-----------+\n",
      "only showing top 20 rows\n",
      "\n"
     ]
    }
   ],
   "source": [
    "dailyTrendbyGames.orderBy(desc('sum(_C1)')).show()"
   ]
  },
  {
   "cell_type": "code",
   "execution_count": 29,
   "metadata": {
    "collapsed": true
   },
   "outputs": [],
   "source": [
    "avgTrends = dailyTrendbyGames.groupBy('Status').sum()"
   ]
  },
  {
   "cell_type": "code",
   "execution_count": 30,
   "metadata": {
    "collapsed": true
   },
   "outputs": [],
   "source": [
    "countTrends = dailyTrendbyGames.groupBy('Status').count()"
   ]
  },
  {
   "cell_type": "code",
   "execution_count": 31,
   "metadata": {},
   "outputs": [
    {
     "name": "stdout",
     "output_type": "stream",
     "text": [
      "+-----------+-------------+\n",
      "|     Status|sum(sum(_C1))|\n",
      "+-----------+-------------+\n",
      "|Regular Day|       508665|\n",
      "|   Game Day|       481837|\n",
      "+-----------+-------------+\n",
      "\n",
      "+-----------+-----+\n",
      "|     Status|count|\n",
      "+-----------+-----+\n",
      "|Regular Day|   94|\n",
      "|   Game Day|   81|\n",
      "+-----------+-----+\n",
      "\n",
      "+-----------+-------------+-----+\n",
      "|     Status|sum(sum(_C1))|count|\n",
      "+-----------+-------------+-----+\n",
      "|Regular Day|       508665|   94|\n",
      "|   Game Day|       481837|   81|\n",
      "+-----------+-------------+-----+\n",
      "\n"
     ]
    }
   ],
   "source": [
    "avgTrends.show()\n",
    "\n",
    "countTrends.show()\n",
    "\n",
    "new = avgTrends.join(countTrends, 'Status','left')\n",
    "new.show()"
   ]
  },
  {
   "cell_type": "code",
   "execution_count": 32,
   "metadata": {},
   "outputs": [
    {
     "name": "stdout",
     "output_type": "stream",
     "text": [
      "+-----------+-----------------------+\n",
      "|     Status|(sum(sum(_C1)) / count)|\n",
      "+-----------+-----------------------+\n",
      "|Regular Day|      5411.329787234043|\n",
      "|   Game Day|      5948.604938271605|\n",
      "+-----------+-----------------------+\n",
      "\n"
     ]
    }
   ],
   "source": [
    "final = new.select(new['Status'],new['sum(sum(_C1))'] / new['count'])\n",
    "final.show()"
   ]
  }
 ],
 "metadata": {
  "kernelspec": {
   "display_name": "Python 3",
   "language": "python",
   "name": "python3"
  },
  "language_info": {
   "codemirror_mode": {
    "name": "ipython",
    "version": 3
   },
   "file_extension": ".py",
   "mimetype": "text/x-python",
   "name": "python",
   "nbconvert_exporter": "python",
   "pygments_lexer": "ipython3",
   "version": "3.6.3"
  }
 },
 "nbformat": 4,
 "nbformat_minor": 2
}
