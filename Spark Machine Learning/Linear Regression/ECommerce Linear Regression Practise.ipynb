{
 "cells": [
  {
   "cell_type": "code",
   "execution_count": 1,
   "metadata": {
    "collapsed": true
   },
   "outputs": [],
   "source": [
    "from pyspark.sql import SparkSession\n",
    "spark = SparkSession.builder.appName('E-Commerce').getOrCreate()"
   ]
  },
  {
   "cell_type": "code",
   "execution_count": 2,
   "metadata": {
    "collapsed": true
   },
   "outputs": [],
   "source": [
    "data = spark.read.csv('Ecommerce_Customers.csv', inferSchema=True,header=True)"
   ]
  },
  {
   "cell_type": "code",
   "execution_count": 3,
   "metadata": {
    "scrolled": true
   },
   "outputs": [
    {
     "name": "stdout",
     "output_type": "stream",
     "text": [
      "root\n",
      " |-- Email: string (nullable = true)\n",
      " |-- Address: string (nullable = true)\n",
      " |-- Avatar: string (nullable = true)\n",
      " |-- Avg Session Length: double (nullable = true)\n",
      " |-- Time on App: double (nullable = true)\n",
      " |-- Time on Website: double (nullable = true)\n",
      " |-- Length of Membership: double (nullable = true)\n",
      " |-- Yearly Amount Spent: double (nullable = true)\n",
      "\n"
     ]
    }
   ],
   "source": [
    "data.printSchema()"
   ]
  },
  {
   "cell_type": "code",
   "execution_count": 5,
   "metadata": {},
   "outputs": [
    {
     "data": {
      "text/plain": [
       "['Email',\n",
       " 'Address',\n",
       " 'Avatar',\n",
       " 'Avg Session Length',\n",
       " 'Time on App',\n",
       " 'Time on Website',\n",
       " 'Length of Membership',\n",
       " 'Yearly Amount Spent']"
      ]
     },
     "execution_count": 5,
     "metadata": {},
     "output_type": "execute_result"
    }
   ],
   "source": [
    "data.columns"
   ]
  },
  {
   "cell_type": "code",
   "execution_count": 4,
   "metadata": {
    "collapsed": true
   },
   "outputs": [],
   "source": [
    "#Bringing that in the format for the machine learning algorithm]\n",
    "from pyspark.ml.linalg import Vectors\n",
    "from pyspark.ml.feature import VectorAssembler"
   ]
  },
  {
   "cell_type": "code",
   "execution_count": 7,
   "metadata": {},
   "outputs": [],
   "source": [
    "#specifying which column are for the features and which are for label\n",
    "assembler = VectorAssembler(\n",
    "    inputCols = [ 'Avg Session Length', 'Time on App', \n",
    "                 'Time on Website', 'Length of Membership'], \n",
    "    outputCol = \"features\")"
   ]
  },
  {
   "cell_type": "code",
   "execution_count": 8,
   "metadata": {
    "collapsed": true
   },
   "outputs": [],
   "source": [
    "output = assembler.transform(data)"
   ]
  },
  {
   "cell_type": "code",
   "execution_count": 9,
   "metadata": {
    "scrolled": true
   },
   "outputs": [
    {
     "name": "stdout",
     "output_type": "stream",
     "text": [
      "root\n",
      " |-- features: vector (nullable = true)\n",
      " |-- Yearly Amount Spent: double (nullable = true)\n",
      "\n"
     ]
    }
   ],
   "source": [
    "dataml = output.select('features','Yearly Amount Spent')\n",
    "dataml.printSchema()"
   ]
  },
  {
   "cell_type": "code",
   "execution_count": 11,
   "metadata": {
    "scrolled": true
   },
   "outputs": [
    {
     "name": "stdout",
     "output_type": "stream",
     "text": [
      "+-------+-------------------+\n",
      "|summary|Yearly Amount Spent|\n",
      "+-------+-------------------+\n",
      "|  count|                344|\n",
      "|   mean|  498.2791400078813|\n",
      "| stddev|  76.82441908883628|\n",
      "|    min|   266.086340948469|\n",
      "|    max|  765.5184619388373|\n",
      "+-------+-------------------+\n",
      "\n",
      "+-------+-------------------+\n",
      "|summary|Yearly Amount Spent|\n",
      "+-------+-------------------+\n",
      "|  count|                156|\n",
      "|   mean|  501.5961215806683|\n",
      "| stddev|  84.76009979625177|\n",
      "|    min| 256.67058229005585|\n",
      "|    max|  744.2218671047146|\n",
      "+-------+-------------------+\n",
      "\n"
     ]
    }
   ],
   "source": [
    "#splitting data into test train data set\n",
    "train, test = dataml.randomSplit([0.7, 0.3])\n",
    "\n",
    "train.describe().show()\n",
    "test.describe().show()"
   ]
  },
  {
   "cell_type": "code",
   "execution_count": 12,
   "metadata": {
    "collapsed": true
   },
   "outputs": [],
   "source": [
    "from pyspark.ml.regression import LinearRegression\n",
    "lr = LinearRegression(labelCol = 'Yearly Amount Spent')"
   ]
  },
  {
   "cell_type": "code",
   "execution_count": 17,
   "metadata": {
    "scrolled": true
   },
   "outputs": [
    {
     "name": "stdout",
     "output_type": "stream",
     "text": [
      "Values for :\n",
      "Intercept:-1052.7156291085996\n",
      "Coefficients:[25.889314473,37.9718423042,0.564770150991,61.6390832491]\n"
     ]
    }
   ],
   "source": [
    "model = lr.fit(train)\n",
    "print(\"Values for :\\nIntercept:{}\\nCoefficients:{}\"\\\n",
    "      .format(model.intercept,model.coefficients))"
   ]
  },
  {
   "cell_type": "code",
   "execution_count": 18,
   "metadata": {
    "scrolled": true
   },
   "outputs": [
    {
     "name": "stdout",
     "output_type": "stream",
     "text": [
      "+--------------------+\n",
      "|           residuals|\n",
      "+--------------------+\n",
      "|  11.455596625779549|\n",
      "| -2.6553858767242104|\n",
      "|   3.911164099673101|\n",
      "| -20.916865115326914|\n",
      "| 0.33070328485962364|\n",
      "|  22.849542616098233|\n",
      "|  3.1811370281851623|\n",
      "|   18.53913822466103|\n",
      "|  3.4704017962248486|\n",
      "|  -5.316758541503816|\n",
      "|  -5.941573537188447|\n",
      "| -1.5206236461336857|\n",
      "|  1.6259995088694836|\n",
      "|  0.5694856460740993|\n",
      "| -6.9976155011890455|\n",
      "| -16.994182339661222|\n",
      "| -13.901065280860394|\n",
      "| -5.0795662351866895|\n",
      "|   4.463687117380914|\n",
      "|-0.33699207467640235|\n",
      "+--------------------+\n",
      "only showing top 20 rows\n",
      "\n"
     ]
    }
   ],
   "source": [
    "test_results = model.evaluate(test)\n",
    "test_results.residuals.show()"
   ]
  },
  {
   "cell_type": "code",
   "execution_count": 19,
   "metadata": {
    "scrolled": true
   },
   "outputs": [
    {
     "name": "stdout",
     "output_type": "stream",
     "text": [
      "The value of r-square :0.985557392076116\n",
      "The value of rmse :10.153547855171935\n"
     ]
    }
   ],
   "source": [
    "print(\"The value of r-square :{}\".format(test_results.r2))\n",
    "print(\"The value of rmse :{}\".format(test_results.rootMeanSquaredError))"
   ]
  },
  {
   "cell_type": "code",
   "execution_count": 20,
   "metadata": {
    "collapsed": true
   },
   "outputs": [],
   "source": [
    "#creatin unlabelled data from the test data \n",
    "unlabelled = test.select('features')"
   ]
  },
  {
   "cell_type": "code",
   "execution_count": 21,
   "metadata": {},
   "outputs": [
    {
     "name": "stdout",
     "output_type": "stream",
     "text": [
      "+--------------------+------------------+\n",
      "|            features|        prediction|\n",
      "+--------------------+------------------+\n",
      "|[30.7377203726281...|450.32514557045033|\n",
      "|[30.8794843441274...| 492.8619858615789|\n",
      "|[31.0472221394875...| 388.5862350893483|\n",
      "|[31.1239743499119...| 507.8639189550927|\n",
      "|[31.2606468698795...|420.99592797209175|\n",
      "|[31.2834474760581...| 568.9315468095692|\n",
      "|[31.3091926408918...|429.53958081174846|\n",
      "|[31.3123495994443...| 445.0522798032796|\n",
      "|[31.4459724827577...| 481.4065631389037|\n",
      "|[31.5171218025062...|281.23517919188953|\n",
      "|[31.5257524169682...|449.90720034707033|\n",
      "|[31.5761319713222...|  542.747207635462|\n",
      "|[31.7366356860502...|495.30744674666244|\n",
      "|[31.8293464559211...| 384.5828523419009|\n",
      "|[31.8745516945853...|399.28285974745654|\n",
      "|[31.9048571310136...|490.94403976247736|\n",
      "|[31.9365486184489...| 441.1004501761886|\n",
      "|[31.9453957483445...| 662.0994901728386|\n",
      "|[31.9764800614612...| 326.1307589167193|\n",
      "|[32.0047530203648...|464.08297319530584|\n",
      "+--------------------+------------------+\n",
      "only showing top 20 rows\n",
      "\n"
     ]
    }
   ],
   "source": [
    "model.transform(unlabelled).show()"
   ]
  }
 ],
 "metadata": {
  "kernelspec": {
   "display_name": "Python 3",
   "language": "python",
   "name": "python3"
  },
  "language_info": {
   "codemirror_mode": {
    "name": "ipython",
    "version": 3
   },
   "file_extension": ".py",
   "mimetype": "text/x-python",
   "name": "python",
   "nbconvert_exporter": "python",
   "pygments_lexer": "ipython3",
   "version": "3.6.3"
  }
 },
 "nbformat": 4,
 "nbformat_minor": 2
}
