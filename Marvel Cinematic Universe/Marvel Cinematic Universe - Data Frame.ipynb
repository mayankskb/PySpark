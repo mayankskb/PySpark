{
 "cells": [
  {
   "cell_type": "code",
   "execution_count": 1,
   "metadata": {
    "collapsed": true
   },
   "outputs": [],
   "source": [
    "import findspark\n",
    "findspark.init(\"/usr/local/spark/spark-2.2.1-bin-hadoop2.7\")"
   ]
  },
  {
   "cell_type": "code",
   "execution_count": 2,
   "metadata": {
    "collapsed": true
   },
   "outputs": [],
   "source": [
    "from pyspark.sql import SparkSession\n",
    "spark = SparkSession.builder.appName('MarvelCinematicUniverse').getOrCreate()"
   ]
  },
  {
   "cell_type": "code",
   "execution_count": 3,
   "metadata": {
    "collapsed": true
   },
   "outputs": [],
   "source": [
    "book = spark.read.text('Books.txt')\n",
    "character = spark.read.text('Characters.txt')\n",
    "edges = spark.read.text('Edges.txt')"
   ]
  },
  {
   "cell_type": "code",
   "execution_count": 4,
   "metadata": {
    "scrolled": true
   },
   "outputs": [
    {
     "data": {
      "text/plain": [
       "[Row(value='Vertex 6487: AA2 35'),\n",
       " Row(value='Vertex 6488: M/PRM 35'),\n",
       " Row(value='Vertex 6489: M/PRM 36'),\n",
       " Row(value='Vertex 6490: M/PRM 37'),\n",
       " Row(value='Vertex 6491: WI? 9'),\n",
       " Row(value='Vertex 6492: AVF 4'),\n",
       " Row(value='Vertex 6493: AVF 5'),\n",
       " Row(value='Vertex 6494: H2 251'),\n",
       " Row(value='Vertex 6495: H2 252'),\n",
       " Row(value='Vertex 6496: COC 1')]"
      ]
     },
     "execution_count": 4,
     "metadata": {},
     "output_type": "execute_result"
    }
   ],
   "source": [
    "book.take(10)"
   ]
  },
  {
   "cell_type": "code",
   "execution_count": 5,
   "metadata": {
    "scrolled": true
   },
   "outputs": [
    {
     "data": {
      "text/plain": [
       "[Row(value='Vertex 1: 24-HOUR MAN/EMMANUEL'),\n",
       " Row(value='Vertex 2: 3-D MAN/CHARLES CHANDLER & HAROLD CHANDLER'),\n",
       " Row(value='Vertex 3: 4-D MAN/MERCURIO'),\n",
       " Row(value='Vertex 4: 8-BALL/'),\n",
       " Row(value='Vertex 5: A'),\n",
       " Row(value=\"Vertex 6: A'YIN\"),\n",
       " Row(value='Vertex 7: ABBOTT, JACK'),\n",
       " Row(value='Vertex 8: ABCISSA'),\n",
       " Row(value='Vertex 9: ABEL'),\n",
       " Row(value='Vertex 10: ABOMINATION/EMIL BLONSKY')]"
      ]
     },
     "execution_count": 5,
     "metadata": {},
     "output_type": "execute_result"
    }
   ],
   "source": [
    "character.take(10)"
   ]
  },
  {
   "cell_type": "code",
   "execution_count": 6,
   "metadata": {
    "scrolled": true
   },
   "outputs": [
    {
     "data": {
      "text/plain": [
       "[Row(value='*Vertices 19428 6486'),\n",
       " Row(value='1 \"24-HOUR MAN/EMMANUEL\"'),\n",
       " Row(value='2 \"3-D MAN/CHARLES CHAN\"'),\n",
       " Row(value='3 \"4-D MAN/MERCURIO\"'),\n",
       " Row(value='4 \"8-BALL/\"'),\n",
       " Row(value='5 \"A\"'),\n",
       " Row(value='6 \"A\\'YIN\"'),\n",
       " Row(value='7 \"ABBOTT, JACK\"'),\n",
       " Row(value='8 \"ABCISSA\"'),\n",
       " Row(value='9 \"ABEL\"')]"
      ]
     },
     "execution_count": 6,
     "metadata": {},
     "output_type": "execute_result"
    }
   ],
   "source": [
    "edges.take(10)"
   ]
  },
  {
   "cell_type": "code",
   "execution_count": 7,
   "metadata": {
    "collapsed": true
   },
   "outputs": [],
   "source": [
    "def edgeFilter(row):\n",
    "    if '*' in row or '\"' in row:\n",
    "        return False\n",
    "    else:\n",
    "        return True\n",
    "    \n",
    "from pyspark.sql.functions import udf\n",
    "from pyspark.sql.types import *\n",
    "edge_udf = udf(edgeFilter, BooleanType() )"
   ]
  },
  {
   "cell_type": "code",
   "execution_count": 8,
   "metadata": {
    "collapsed": true
   },
   "outputs": [],
   "source": [
    "edges = edges.withColumn(\"status\", edge_udf(edges['value']) )"
   ]
  },
  {
   "cell_type": "code",
   "execution_count": 9,
   "metadata": {},
   "outputs": [
    {
     "name": "stdout",
     "output_type": "stream",
     "text": [
      "+--------------------+------+\n",
      "|               value|status|\n",
      "+--------------------+------+\n",
      "|*Vertices 19428 6486| false|\n",
      "|1 \"24-HOUR MAN/EM...| false|\n",
      "|2 \"3-D MAN/CHARLE...| false|\n",
      "|3 \"4-D MAN/MERCURIO\"| false|\n",
      "|         4 \"8-BALL/\"| false|\n",
      "|               5 \"A\"| false|\n",
      "|           6 \"A'YIN\"| false|\n",
      "|    7 \"ABBOTT, JACK\"| false|\n",
      "|         8 \"ABCISSA\"| false|\n",
      "|            9 \"ABEL\"| false|\n",
      "|10 \"ABOMINATION/E...| false|\n",
      "|11 \"ABOMINATION |...| false|\n",
      "|    12 \"ABOMINATRIX\"| false|\n",
      "|        13 \"ABRAXAS\"| false|\n",
      "|     14 \"ADAM 3,031\"| false|\n",
      "|        15 \"ABSALOM\"| false|\n",
      "|16 \"ABSORBING MAN...| false|\n",
      "|17 \"ABSORBING MAN...| false|\n",
      "|           18 \"ACBA\"| false|\n",
      "|19 \"ACHEBE, REVER...| false|\n",
      "+--------------------+------+\n",
      "only showing top 20 rows\n",
      "\n"
     ]
    }
   ],
   "source": [
    "edges.show()"
   ]
  },
  {
   "cell_type": "code",
   "execution_count": 10,
   "metadata": {
    "collapsed": true
   },
   "outputs": [],
   "source": [
    "edgefiltered = edges.filter(edges['status'] == 'True').select(edges['value'])"
   ]
  },
  {
   "cell_type": "code",
   "execution_count": 11,
   "metadata": {},
   "outputs": [
    {
     "name": "stdout",
     "output_type": "stream",
     "text": [
      "+--------------------+\n",
      "|               value|\n",
      "+--------------------+\n",
      "|              1 6487|\n",
      "|2 6488 6489 6490 ...|\n",
      "|3 6497 6498 6499 ...|\n",
      "|    4 6506 6507 6508|\n",
      "|    5 6509 6510 6511|\n",
      "|6 6512 6513 6514 ...|\n",
      "|              7 6516|\n",
      "|         8 6517 6518|\n",
      "|         9 6519 6520|\n",
      "|10 6521 6522 6523...|\n",
      "|10 6536 6537 6538...|\n",
      "|10 6551 6552 6553...|\n",
      "|             11 6566|\n",
      "|   12 6567 6568 6569|\n",
      "|13 6570 6571 6572...|\n",
      "|14 6574 6575 6576...|\n",
      "|15 6578 6579 6580...|\n",
      "|16 6582 6583 6584...|\n",
      "|16 6597 6598 6599...|\n",
      "|16 6612 6613 6614...|\n",
      "+--------------------+\n",
      "only showing top 20 rows\n",
      "\n"
     ]
    }
   ],
   "source": [
    "edgefiltered.show()"
   ]
  },
  {
   "cell_type": "code",
   "execution_count": 12,
   "metadata": {},
   "outputs": [
    {
     "data": {
      "text/plain": [
       "[Row(value='1 6487'),\n",
       " Row(value='2 6488 6489 6490 6491 6492 6493 6494 6495 6496'),\n",
       " Row(value='3 6497 6498 6499 6500 6501 6502 6503 6504 6505'),\n",
       " Row(value='4 6506 6507 6508'),\n",
       " Row(value='5 6509 6510 6511'),\n",
       " Row(value='6 6512 6513 6514 6515'),\n",
       " Row(value='7 6516'),\n",
       " Row(value='8 6517 6518'),\n",
       " Row(value='9 6519 6520'),\n",
       " Row(value='10 6521 6522 6523 6524 6525 6526 6527 6528 6529 6530 6531 6532 6533 6534 6535')]"
      ]
     },
     "execution_count": 12,
     "metadata": {},
     "output_type": "execute_result"
    }
   ],
   "source": [
    "temprdd = edgefiltered.rdd\n",
    "temprdd.take(10)"
   ]
  },
  {
   "cell_type": "code",
   "execution_count": 13,
   "metadata": {
    "collapsed": true
   },
   "outputs": [],
   "source": [
    "characterBookMap = temprdd.map(lambda x: x[0].split()).map(lambda x: (x[0], x[1:]))"
   ]
  },
  {
   "cell_type": "code",
   "execution_count": 14,
   "metadata": {
    "scrolled": true
   },
   "outputs": [
    {
     "name": "stdout",
     "output_type": "stream",
     "text": [
      "+---+--------------------+\n",
      "| _1|                  _2|\n",
      "+---+--------------------+\n",
      "|  1|              [6487]|\n",
      "|  2|[6488, 6489, 6490...|\n",
      "|  3|[6497, 6498, 6499...|\n",
      "|  4|  [6506, 6507, 6508]|\n",
      "|  5|  [6509, 6510, 6511]|\n",
      "|  6|[6512, 6513, 6514...|\n",
      "|  7|              [6516]|\n",
      "|  8|        [6517, 6518]|\n",
      "|  9|        [6519, 6520]|\n",
      "| 10|[6521, 6522, 6523...|\n",
      "| 10|[6536, 6537, 6538...|\n",
      "| 10|[6551, 6552, 6553...|\n",
      "| 11|              [6566]|\n",
      "| 12|  [6567, 6568, 6569]|\n",
      "| 13|[6570, 6571, 6572...|\n",
      "| 14|[6574, 6575, 6576...|\n",
      "| 15|[6578, 6579, 6580...|\n",
      "| 16|[6582, 6583, 6584...|\n",
      "| 16|[6597, 6598, 6599...|\n",
      "| 16|[6612, 6613, 6614...|\n",
      "+---+--------------------+\n",
      "only showing top 20 rows\n",
      "\n"
     ]
    }
   ],
   "source": [
    "characterBookMap = characterBookMap.toDF()\n",
    "characterBookMap.show()"
   ]
  },
  {
   "cell_type": "code",
   "execution_count": 15,
   "metadata": {
    "scrolled": true
   },
   "outputs": [
    {
     "name": "stdout",
     "output_type": "stream",
     "text": [
      "+---+----+\n",
      "| _1| col|\n",
      "+---+----+\n",
      "|  1|6487|\n",
      "|  2|6488|\n",
      "|  2|6489|\n",
      "|  2|6490|\n",
      "|  2|6491|\n",
      "|  2|6492|\n",
      "|  2|6493|\n",
      "|  2|6494|\n",
      "|  2|6495|\n",
      "|  2|6496|\n",
      "|  3|6497|\n",
      "|  3|6498|\n",
      "|  3|6499|\n",
      "|  3|6500|\n",
      "|  3|6501|\n",
      "|  3|6502|\n",
      "|  3|6503|\n",
      "|  3|6504|\n",
      "|  3|6505|\n",
      "|  4|6506|\n",
      "+---+----+\n",
      "only showing top 20 rows\n",
      "\n"
     ]
    }
   ],
   "source": [
    "from pyspark.sql.functions import explode\n",
    "temp = characterBookMap.select(characterBookMap['_1'],explode(characterBookMap['_2']))\n",
    "temp.show()"
   ]
  },
  {
   "cell_type": "code",
   "execution_count": 16,
   "metadata": {
    "scrolled": true
   },
   "outputs": [
    {
     "name": "stdout",
     "output_type": "stream",
     "text": [
      "+-----+--------------------+\n",
      "|  col|            relation|\n",
      "+-----+--------------------+\n",
      "|10096|[372, 859, 1828, ...|\n",
      "|10351|[403, 854, 2083, ...|\n",
      "|10436|[422, 625, 1383, ...|\n",
      "|11078|[516, 649, 831, 1...|\n",
      "|11332|[533, 1484, 1496,...|\n",
      "|11563|[558, 1436, 1543,...|\n",
      "|11722|[582, 2123, 2438,...|\n",
      "|11888|[626, 859, 921, 1...|\n",
      "|12394|[759, 859, 1657, ...|\n",
      "|12529|[797, 1347, 1370,...|\n",
      "|12847|[854, 1029, 1299,...|\n",
      "|13192|[859, 867, 3717, ...|\n",
      "|13282|[859, 921, 2383, ...|\n",
      "|13442|               [867]|\n",
      "|13610|[875, 2931, 3757,...|\n",
      "|13772|[959, 1077, 1587,...|\n",
      "|13865|[1004, 1587, 1602...|\n",
      "|14157|[1127, 1289, 2397...|\n",
      "|14204|[1127, 3950, 4064...|\n",
      "|14369|[1196, 1197, 2096...|\n",
      "+-----+--------------------+\n",
      "only showing top 20 rows\n",
      "\n"
     ]
    }
   ],
   "source": [
    "from pyspark.sql.functions import *\n",
    "bookCharacterMap = temp.groupBy('col').agg(collect_list('_1').alias('relation'))\n",
    "bookCharacterMap.show()"
   ]
  },
  {
   "cell_type": "code",
   "execution_count": 17,
   "metadata": {
    "collapsed": true
   },
   "outputs": [],
   "source": [
    "import itertools\n",
    "cooccurrenceMap = bookCharacterMap.rdd.flatMap(lambda x: list(itertools.combinations(x[1],2))).toDF()"
   ]
  },
  {
   "cell_type": "code",
   "execution_count": 18,
   "metadata": {
    "scrolled": true
   },
   "outputs": [
    {
     "name": "stdout",
     "output_type": "stream",
     "text": [
      "+----+----+\n",
      "|  _1|  _2|\n",
      "+----+----+\n",
      "| 372| 859|\n",
      "| 372|1828|\n",
      "| 372|2958|\n",
      "| 372|2971|\n",
      "| 372|4404|\n",
      "| 372|4754|\n",
      "| 372|5375|\n",
      "| 372|5978|\n",
      "| 859|1828|\n",
      "| 859|2958|\n",
      "| 859|2971|\n",
      "| 859|4404|\n",
      "| 859|4754|\n",
      "| 859|5375|\n",
      "| 859|5978|\n",
      "|1828|2958|\n",
      "|1828|2971|\n",
      "|1828|4404|\n",
      "|1828|4754|\n",
      "|1828|5375|\n",
      "+----+----+\n",
      "only showing top 20 rows\n",
      "\n"
     ]
    }
   ],
   "source": [
    "cooccurrenceMap.show()"
   ]
  },
  {
   "cell_type": "code",
   "execution_count": 19,
   "metadata": {
    "scrolled": true
   },
   "outputs": [
    {
     "name": "stdout",
     "output_type": "stream",
     "text": [
      "+----+----+-----+\n",
      "|  _1|  _2|count|\n",
      "+----+----+-----+\n",
      "|2958|5375|   17|\n",
      "|2083|3425|    2|\n",
      "|1484|2720|    3|\n",
      "|2557|6038|   14|\n",
      "|1805|2664|   44|\n",
      "| 854|1666|    2|\n",
      "|2423|4261|    1|\n",
      "|1582|5716|  119|\n",
      "|1739|2824|    6|\n",
      "|3212|5716|   12|\n",
      "|2863|3678|    3|\n",
      "|3989|6006|    4|\n",
      "| 464|4894|    3|\n",
      "| 464|6136|    1|\n",
      "|4769|5089|    1|\n",
      "|4978|6148|   20|\n",
      "| 251|5664|    3|\n",
      "|2493|3620|    2|\n",
      "|2493|3961|    3|\n",
      "|3950|3961|    3|\n",
      "+----+----+-----+\n",
      "only showing top 20 rows\n",
      "\n"
     ]
    }
   ],
   "source": [
    "occurrenceStrength = cooccurrenceMap.groupby(['_1','_2']).count()\n",
    "occurrenceStrength.show()"
   ]
  },
  {
   "cell_type": "code",
   "execution_count": 20,
   "metadata": {
    "scrolled": true
   },
   "outputs": [
    {
     "name": "stdout",
     "output_type": "stream",
     "text": [
      "+--------------------+\n",
      "|               value|\n",
      "+--------------------+\n",
      "|Vertex 1: 24-HOUR...|\n",
      "|Vertex 2: 3-D MAN...|\n",
      "|Vertex 3: 4-D MAN...|\n",
      "|   Vertex 4: 8-BALL/|\n",
      "|         Vertex 5: A|\n",
      "|     Vertex 6: A'YIN|\n",
      "|Vertex 7: ABBOTT,...|\n",
      "|   Vertex 8: ABCISSA|\n",
      "|      Vertex 9: ABEL|\n",
      "|Vertex 10: ABOMIN...|\n",
      "|Vertex 11: ABOMIN...|\n",
      "|Vertex 12: ABOMIN...|\n",
      "|  Vertex 13: ABRAXAS|\n",
      "|Vertex 14: ADAM 3...|\n",
      "|  Vertex 15: ABSALOM|\n",
      "|Vertex 16: ABSORB...|\n",
      "|Vertex 17: ABSORB...|\n",
      "|     Vertex 18: ACBA|\n",
      "|Vertex 19: ACHEBE...|\n",
      "| Vertex 20: ACHILLES|\n",
      "+--------------------+\n",
      "only showing top 20 rows\n",
      "\n"
     ]
    }
   ],
   "source": [
    "character.show()"
   ]
  },
  {
   "cell_type": "code",
   "execution_count": 21,
   "metadata": {
    "collapsed": true
   },
   "outputs": [],
   "source": [
    "def charParse(row):\n",
    "    row = row[0]\n",
    "    row = row.split(\":\") \n",
    "    return (row[0][7:], row[1].strip())"
   ]
  },
  {
   "cell_type": "code",
   "execution_count": 22,
   "metadata": {
    "collapsed": true,
    "scrolled": false
   },
   "outputs": [],
   "source": [
    "characterLookUp = character.rdd.map(charParse).collectAsMap()"
   ]
  },
  {
   "cell_type": "code",
   "execution_count": 23,
   "metadata": {
    "scrolled": true
   },
   "outputs": [
    {
     "name": "stdout",
     "output_type": "stream",
     "text": [
      "+---+--------------------+\n",
      "| _1|                  _2|\n",
      "+---+--------------------+\n",
      "|  1|              [6487]|\n",
      "|  2|[6488, 6489, 6490...|\n",
      "|  3|[6497, 6498, 6499...|\n",
      "|  4|  [6506, 6507, 6508]|\n",
      "|  5|  [6509, 6510, 6511]|\n",
      "|  6|[6512, 6513, 6514...|\n",
      "|  7|              [6516]|\n",
      "|  8|        [6517, 6518]|\n",
      "|  9|        [6519, 6520]|\n",
      "| 10|[6521, 6522, 6523...|\n",
      "| 10|[6536, 6537, 6538...|\n",
      "| 10|[6551, 6552, 6553...|\n",
      "| 11|              [6566]|\n",
      "| 12|  [6567, 6568, 6569]|\n",
      "| 13|[6570, 6571, 6572...|\n",
      "| 14|[6574, 6575, 6576...|\n",
      "| 15|[6578, 6579, 6580...|\n",
      "| 16|[6582, 6583, 6584...|\n",
      "| 16|[6597, 6598, 6599...|\n",
      "| 16|[6612, 6613, 6614...|\n",
      "+---+--------------------+\n",
      "only showing top 20 rows\n",
      "\n"
     ]
    }
   ],
   "source": [
    "characterBookMap.show()"
   ]
  },
  {
   "cell_type": "code",
   "execution_count": 24,
   "metadata": {
    "collapsed": true,
    "scrolled": false
   },
   "outputs": [],
   "source": [
    "def returnName(row):\n",
    "    return characterLookUp[row]\n",
    "\n",
    "name_udf = udf(returnName, StringType())\n",
    "tempname = temp.groupBy('_1').count()\n"
   ]
  },
  {
   "cell_type": "code",
   "execution_count": 25,
   "metadata": {
    "collapsed": true,
    "scrolled": true
   },
   "outputs": [],
   "source": [
    "tempname = tempname.orderBy(desc('count'))\n",
    "tempname = tempname.withColumn(\"Name\",name_udf(tempname['_1']))\n",
    "characterStrength = tempname.select('Name','count')"
   ]
  },
  {
   "cell_type": "code",
   "execution_count": 26,
   "metadata": {
    "scrolled": true
   },
   "outputs": [
    {
     "name": "stdout",
     "output_type": "stream",
     "text": [
      "+--------------------+-----+\n",
      "|                Name|count|\n",
      "+--------------------+-----+\n",
      "|SPIDER-MAN/PETER ...| 1625|\n",
      "|     CAPTAIN AMERICA| 1367|\n",
      "| IRON MAN/TONY STARK| 1168|\n",
      "|THING/BENJAMIN J....|  990|\n",
      "|THOR/DR. DONALD B...|  965|\n",
      "|HUMAN TORCH/JOHNN...|  908|\n",
      "|MR. FANTASTIC/REE...|  875|\n",
      "|HULK/DR. ROBERT B...|  841|\n",
      "|     WOLVERINE/LOGAN|  820|\n",
      "|INVISIBLE WOMAN/S...|  782|\n",
      "|BEAST/HENRY &HANK...|  645|\n",
      "|SCARLET WITCH/WAN...|  644|\n",
      "|DR. STRANGE/STEPH...|  632|\n",
      "|DAREDEVIL/MATT MU...|  625|\n",
      "|WATSON-PARKER, MA...|  624|\n",
      "|                HAWK|  611|\n",
      "|              VISION|  605|\n",
      "|CYCLOPS/SCOTT SUM...|  596|\n",
      "|WASP/JANET VAN DY...|  591|\n",
      "|   JAMESON, J. JONAH|  589|\n",
      "+--------------------+-----+\n",
      "only showing top 20 rows\n",
      "\n"
     ]
    }
   ],
   "source": [
    "characterStrength.show()"
   ]
  },
  {
   "cell_type": "code",
   "execution_count": 28,
   "metadata": {},
   "outputs": [
    {
     "name": "stdout",
     "output_type": "stream",
     "text": [
      "+----+----+-----+\n",
      "|  _1|  _2|count|\n",
      "+----+----+-----+\n",
      "|2958|5375|   17|\n",
      "|2083|3425|    2|\n",
      "|1484|2720|    3|\n",
      "|2557|6038|   14|\n",
      "|1805|2664|   44|\n",
      "| 854|1666|    2|\n",
      "|2423|4261|    1|\n",
      "|1582|5716|  119|\n",
      "|1739|2824|    6|\n",
      "|3212|5716|   12|\n",
      "|2863|3678|    3|\n",
      "|3989|6006|    4|\n",
      "| 464|4894|    3|\n",
      "| 464|6136|    1|\n",
      "|4769|5089|    1|\n",
      "|4978|6148|   20|\n",
      "| 251|5664|    3|\n",
      "|2493|3620|    2|\n",
      "|2493|3961|    3|\n",
      "|3950|3961|    3|\n",
      "+----+----+-----+\n",
      "only showing top 20 rows\n",
      "\n"
     ]
    }
   ],
   "source": [
    "occurrenceStrength.show()"
   ]
  },
  {
   "cell_type": "code",
   "execution_count": 29,
   "metadata": {
    "scrolled": true
   },
   "outputs": [
    {
     "name": "stdout",
     "output_type": "stream",
     "text": [
      "+--------------------+--------------------+-----+\n",
      "|              Name_1|              Name_2|count|\n",
      "+--------------------+--------------------+-----+\n",
      "|HUMAN TORCH/JOHNN...|THING/BENJAMIN J....|  744|\n",
      "|HUMAN TORCH/JOHNN...|MR. FANTASTIC/REE...|  713|\n",
      "|MR. FANTASTIC/REE...|THING/BENJAMIN J....|  708|\n",
      "|INVISIBLE WOMAN/S...|MR. FANTASTIC/REE...|  701|\n",
      "|HUMAN TORCH/JOHNN...|INVISIBLE WOMAN/S...|  694|\n",
      "|INVISIBLE WOMAN/S...|THING/BENJAMIN J....|  668|\n",
      "|SPIDER-MAN/PETER ...|WATSON-PARKER, MA...|  616|\n",
      "|   JAMESON, J. JONAH|SPIDER-MAN/PETER ...|  526|\n",
      "|     CAPTAIN AMERICA| IRON MAN/TONY STARK|  446|\n",
      "|SCARLET WITCH/WAN...|              VISION|  422|\n",
      "|ANT-MAN/DR. HENRY...|WASP/JANET VAN DY...|  406|\n",
      "|CYCLOPS/SCOTT SUM...|MARVEL GIRL/JEAN ...|  390|\n",
      "|STORM/ORORO MUNRO...|     WOLVERINE/LOGAN|  389|\n",
      "|     CAPTAIN AMERICA|THOR/DR. DONALD B...|  386|\n",
      "|     CAPTAIN AMERICA|              VISION|  385|\n",
      "|     CAPTAIN AMERICA|WASP/JANET VAN DY...|  384|\n",
      "|         PARKER, MAY|SPIDER-MAN/PETER ...|  380|\n",
      "|     CAPTAIN AMERICA|SCARLET WITCH/WAN...|  374|\n",
      "| IRON MAN/TONY STARK|SCARLET WITCH/WAN...|  372|\n",
      "|      ROBERTSON, JOE|SPIDER-MAN/PETER ...|  356|\n",
      "+--------------------+--------------------+-----+\n",
      "only showing top 20 rows\n",
      "\n"
     ]
    }
   ],
   "source": [
    "tempoccur = occurrenceStrength.orderBy(desc('count'))\n",
    "tempoccur = tempoccur.withColumn(\"Name_1\",name_udf(tempoccur['_1']))\n",
    "tempoccur = tempoccur.withColumn(\"Name_2\",name_udf(tempoccur['_2']))\n",
    "sortedCooccurence = tempoccur.select('Name_1','Name_2','count')\n",
    "sortedCooccurence.show()"
   ]
  },
  {
   "cell_type": "code",
   "execution_count": 30,
   "metadata": {
    "scrolled": true
   },
   "outputs": [
    {
     "name": "stdout",
     "output_type": "stream",
     "text": [
      "+--------------------+--------------------+-----+\n",
      "|              Name_1|              Name_2|count|\n",
      "+--------------------+--------------------+-----+\n",
      "|SPIDER-MAN/PETER ...|WATSON-PARKER, MA...|  616|\n",
      "|   JAMESON, J. JONAH|SPIDER-MAN/PETER ...|  526|\n",
      "|         PARKER, MAY|SPIDER-MAN/PETER ...|  380|\n",
      "|      ROBERTSON, JOE|SPIDER-MAN/PETER ...|  356|\n",
      "|  LEEDS, BETTY BRANT|SPIDER-MAN/PETER ...|  249|\n",
      "|SPIDER-MAN/PETER ...|THOMPSON, EUGENE ...|  240|\n",
      "|       OSBORN, HARRY|SPIDER-MAN/PETER ...|  181|\n",
      "|HUMAN TORCH/JOHNN...|SPIDER-MAN/PETER ...|  147|\n",
      "|     CAPTAIN AMERICA|SPIDER-MAN/PETER ...|  145|\n",
      "|   OSBORN, LIZ ALLAN|SPIDER-MAN/PETER ...|  138|\n",
      "|SPIDER-MAN/PETER ...|        WATSON, ANNA|  128|\n",
      "|SPIDER-MAN/PETER ...|THING/BENJAMIN J....|  126|\n",
      "|MR. FANTASTIC/REE...|SPIDER-MAN/PETER ...|  121|\n",
      "| GRANT, GLORIA GLORY|SPIDER-MAN/PETER ...|  111|\n",
      "|SPIDER-MAN/PETER ...|          URICH, BEN|  109|\n",
      "|DAREDEVIL/MATT MU...|SPIDER-MAN/PETER ...|  103|\n",
      "| KINGPIN/WILSON FISK|SPIDER-MAN/PETER ...|  102|\n",
      "|SPIDER-MAN/PETER ...|SPIDER-MAN CLONE/...|   98|\n",
      "|INVISIBLE WOMAN/S...|SPIDER-MAN/PETER ...|   97|\n",
      "|SPIDER-MAN/PETER ...|THOR/DR. DONALD B...|   95|\n",
      "+--------------------+--------------------+-----+\n",
      "only showing top 20 rows\n",
      "\n"
     ]
    }
   ],
   "source": [
    "sortedCooccurence.filter((sortedCooccurence['Name_1'] == 'SPIDER-MAN/PETER PARKER') \\\n",
    "                       | (sortedCooccurence['Name_2'] == 'SPIDER-MAN/PETER PARKER')).show()"
   ]
  },
  {
   "cell_type": "code",
   "execution_count": 31,
   "metadata": {
    "collapsed": true
   },
   "outputs": [],
   "source": [
    "tempedges = sortedCooccurence.withColumn('weight', 1000/sortedCooccurence['count']).limit(30)\n",
    "edges =  tempedges.select('Name_1','Name_2','weight').toPandas()"
   ]
  },
  {
   "cell_type": "code",
   "execution_count": 32,
   "metadata": {},
   "outputs": [
    {
     "data": {
      "image/png": "[encoded data removed]",
      "text/plain": [
       "<matplotlib.figure.Figure at 0x7f5b9eae9588>"
      ]
     },
     "metadata": {},
     "output_type": "display_data"
    }
   ],
   "source": [
    "import networkx as nx\n",
    "import matplotlib.pyplot as plt\n",
    "G=nx.from_pandas_dataframe(edges, 'Name_1', 'Name_2','weight')\n",
    "\n",
    "# Plot it\n",
    "nx.draw(G, with_labels=True)\n",
    "plt.show()\n"
   ]
  }
 ],
 "metadata": {
  "kernelspec": {
   "display_name": "Python 3",
   "language": "python",
   "name": "python3"
  },
  "language_info": {
   "codemirror_mode": {
    "name": "ipython",
    "version": 3
   },
   "file_extension": ".py",
   "mimetype": "text/x-python",
   "name": "python",
   "nbconvert_exporter": "python",
   "pygments_lexer": "ipython3",
   "version": "3.6.3"
  }
 },
 "nbformat": 4,
 "nbformat_minor": 2
}
